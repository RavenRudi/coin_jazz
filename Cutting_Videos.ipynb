{
 "cells": [
  {
   "cell_type": "code",
   "execution_count": 15,
   "metadata": {},
   "outputs": [],
   "source": [
    "import os\n",
    "from moviepy.editor import VideoFileClip"
   ]
  },
  {
   "cell_type": "code",
   "execution_count": 16,
   "metadata": {},
   "outputs": [],
   "source": [
    "video = VideoFileClip(\"data\\Original Videos\\jazzaar-20230417-afternoon-JFLB-Cuban-Vocals-video Philipp.mp4\")"
   ]
  },
  {
   "cell_type": "code",
   "execution_count": null,
   "metadata": {},
   "outputs": [],
   "source": [
    "video.fps"
   ]
  },
  {
   "cell_type": "code",
   "execution_count": null,
   "metadata": {},
   "outputs": [],
   "source": [
    "print(video.duration)"
   ]
  },
  {
   "cell_type": "code",
   "execution_count": 17,
   "metadata": {},
   "outputs": [
    {
     "name": "stderr",
     "output_type": "stream",
     "text": [
      "\n",
      "\n",
      "\u001b[A\u001b[A                                                                  \n",
      "\n",
      "\n",
      "\u001b[A\u001b[A\u001b[A                                                      \n",
      "\u001b[A\n",
      "\n",
      "\u001b[A\u001b[A\n",
      "\n",
      "\u001b[A\u001b[A                                                                  \n",
      "\n",
      "\n",
      "\u001b[A\u001b[A\u001b[A                                                      \n",
      "\u001b[A\n",
      "\n",
      "\u001b[A\u001b[A"
     ]
    },
    {
     "name": "stdout",
     "output_type": "stream",
     "text": [
      "Moviepy - Building video data/Original Videos/cut1jazzaar-20230417-afternoon.mp4.\n",
      "MoviePy - Writing audio in cut1jazzaar-20230417-afternoonTEMP_MPY_wvf_snd.mp3\n"
     ]
    },
    {
     "name": "stderr",
     "output_type": "stream",
     "text": [
      "                                                                      \n",
      "\n",
      "\u001b[A\u001b[A                                                                  \n",
      "\n",
      "\n",
      "\u001b[A\u001b[A\u001b[A                                                      \n",
      "\u001b[A\n",
      "\n",
      "\u001b[A\u001b[A\n",
      "\n",
      "\u001b[A\u001b[A                                                                  \n",
      "\n",
      "\n",
      "\u001b[A\u001b[A\u001b[A                                                      \n",
      "\u001b[A\n",
      "\n",
      "\u001b[A\u001b[A"
     ]
    },
    {
     "name": "stdout",
     "output_type": "stream",
     "text": [
      "MoviePy - Done.\n",
      "Moviepy - Writing video data/Original Videos/cut1jazzaar-20230417-afternoon.mp4\n",
      "\n"
     ]
    },
    {
     "name": "stderr",
     "output_type": "stream",
     "text": [
      "t:   2%|▏         | 86/4500 [00:01<01:34, 46.74it/s, now=None] \n",
      "\n",
      "                                                                \n",
      "\n",
      "\u001b[A\u001b[A                                                                  \n",
      "\n",
      "\n",
      "\u001b[A\u001b[A\u001b[A                                                      \n",
      "\u001b[A\n",
      "\n",
      "\u001b[A\u001b[A"
     ]
    },
    {
     "name": "stdout",
     "output_type": "stream",
     "text": [
      "Moviepy - Done !\n"
     ]
    },
    {
     "ename": "PermissionError",
     "evalue": "[WinError 32] Der Prozess kann nicht auf die Datei zugreifen, da sie von einem anderen Prozess verwendet wird: 'cut1jazzaar-20230417-afternoonTEMP_MPY_wvf_snd.mp3'",
     "output_type": "error",
     "traceback": [
      "\u001b[1;31m---------------------------------------------------------------------------\u001b[0m",
      "\u001b[1;31mPermissionError\u001b[0m                           Traceback (most recent call last)",
      "Cell \u001b[1;32mIn[17], line 2\u001b[0m\n\u001b[0;32m      1\u001b[0m video_edit1 \u001b[39m=\u001b[39m video\u001b[39m.\u001b[39msubclip(\u001b[39m0\u001b[39m, (\u001b[39m3\u001b[39m,\u001b[39m0\u001b[39m))\n\u001b[1;32m----> 2\u001b[0m video_edit1\u001b[39m.\u001b[39;49mwrite_videofile(\u001b[39m'\u001b[39;49m\u001b[39mdata/Original Videos/cut1jazzaar-20230417-afternoon.mp4\u001b[39;49m\u001b[39m'\u001b[39;49m, codec \u001b[39m=\u001b[39;49m \u001b[39m'\u001b[39;49m\u001b[39mlibx264\u001b[39;49m\u001b[39m'\u001b[39;49m)\n",
      "File \u001b[1;32mc:\\Users\\phili\\anaconda3\\envs\\COIN_Environment\\lib\\site-packages\\decorator.py:232\u001b[0m, in \u001b[0;36mdecorate.<locals>.fun\u001b[1;34m(*args, **kw)\u001b[0m\n\u001b[0;32m    230\u001b[0m \u001b[39mif\u001b[39;00m \u001b[39mnot\u001b[39;00m kwsyntax:\n\u001b[0;32m    231\u001b[0m     args, kw \u001b[39m=\u001b[39m fix(args, kw, sig)\n\u001b[1;32m--> 232\u001b[0m \u001b[39mreturn\u001b[39;00m caller(func, \u001b[39m*\u001b[39m(extras \u001b[39m+\u001b[39m args), \u001b[39m*\u001b[39m\u001b[39m*\u001b[39mkw)\n",
      "File \u001b[1;32mc:\\Users\\phili\\anaconda3\\envs\\COIN_Environment\\lib\\site-packages\\moviepy\\decorators.py:54\u001b[0m, in \u001b[0;36mrequires_duration\u001b[1;34m(f, clip, *a, **k)\u001b[0m\n\u001b[0;32m     52\u001b[0m     \u001b[39mraise\u001b[39;00m \u001b[39mValueError\u001b[39;00m(\u001b[39m\"\u001b[39m\u001b[39mAttribute \u001b[39m\u001b[39m'\u001b[39m\u001b[39mduration\u001b[39m\u001b[39m'\u001b[39m\u001b[39m not set\u001b[39m\u001b[39m\"\u001b[39m)\n\u001b[0;32m     53\u001b[0m \u001b[39melse\u001b[39;00m:\n\u001b[1;32m---> 54\u001b[0m     \u001b[39mreturn\u001b[39;00m f(clip, \u001b[39m*\u001b[39ma, \u001b[39m*\u001b[39m\u001b[39m*\u001b[39mk)\n",
      "File \u001b[1;32mc:\\Users\\phili\\anaconda3\\envs\\COIN_Environment\\lib\\site-packages\\decorator.py:232\u001b[0m, in \u001b[0;36mdecorate.<locals>.fun\u001b[1;34m(*args, **kw)\u001b[0m\n\u001b[0;32m    230\u001b[0m \u001b[39mif\u001b[39;00m \u001b[39mnot\u001b[39;00m kwsyntax:\n\u001b[0;32m    231\u001b[0m     args, kw \u001b[39m=\u001b[39m fix(args, kw, sig)\n\u001b[1;32m--> 232\u001b[0m \u001b[39mreturn\u001b[39;00m caller(func, \u001b[39m*\u001b[39m(extras \u001b[39m+\u001b[39m args), \u001b[39m*\u001b[39m\u001b[39m*\u001b[39mkw)\n",
      "File \u001b[1;32mc:\\Users\\phili\\anaconda3\\envs\\COIN_Environment\\lib\\site-packages\\moviepy\\decorators.py:125\u001b[0m, in \u001b[0;36muse_clip_fps_by_default\u001b[1;34m(f, clip, *a, **k)\u001b[0m\n\u001b[0;32m    120\u001b[0m new_a \u001b[39m=\u001b[39m [fun(arg) \u001b[39mif\u001b[39;00m (name\u001b[39m==\u001b[39m\u001b[39m'\u001b[39m\u001b[39mfps\u001b[39m\u001b[39m'\u001b[39m) \u001b[39melse\u001b[39;00m arg\n\u001b[0;32m    121\u001b[0m          \u001b[39mfor\u001b[39;00m (arg, name) \u001b[39min\u001b[39;00m \u001b[39mzip\u001b[39m(a, names)]\n\u001b[0;32m    122\u001b[0m new_kw \u001b[39m=\u001b[39m {k: fun(v) \u001b[39mif\u001b[39;00m k\u001b[39m==\u001b[39m\u001b[39m'\u001b[39m\u001b[39mfps\u001b[39m\u001b[39m'\u001b[39m \u001b[39melse\u001b[39;00m v\n\u001b[0;32m    123\u001b[0m          \u001b[39mfor\u001b[39;00m (k,v) \u001b[39min\u001b[39;00m k\u001b[39m.\u001b[39mitems()}\n\u001b[1;32m--> 125\u001b[0m \u001b[39mreturn\u001b[39;00m f(clip, \u001b[39m*\u001b[39mnew_a, \u001b[39m*\u001b[39m\u001b[39m*\u001b[39mnew_kw)\n",
      "File \u001b[1;32mc:\\Users\\phili\\anaconda3\\envs\\COIN_Environment\\lib\\site-packages\\decorator.py:232\u001b[0m, in \u001b[0;36mdecorate.<locals>.fun\u001b[1;34m(*args, **kw)\u001b[0m\n\u001b[0;32m    230\u001b[0m \u001b[39mif\u001b[39;00m \u001b[39mnot\u001b[39;00m kwsyntax:\n\u001b[0;32m    231\u001b[0m     args, kw \u001b[39m=\u001b[39m fix(args, kw, sig)\n\u001b[1;32m--> 232\u001b[0m \u001b[39mreturn\u001b[39;00m caller(func, \u001b[39m*\u001b[39m(extras \u001b[39m+\u001b[39m args), \u001b[39m*\u001b[39m\u001b[39m*\u001b[39mkw)\n",
      "File \u001b[1;32mc:\\Users\\phili\\anaconda3\\envs\\COIN_Environment\\lib\\site-packages\\moviepy\\decorators.py:22\u001b[0m, in \u001b[0;36mconvert_masks_to_RGB\u001b[1;34m(f, clip, *a, **k)\u001b[0m\n\u001b[0;32m     20\u001b[0m \u001b[39mif\u001b[39;00m clip\u001b[39m.\u001b[39mismask:\n\u001b[0;32m     21\u001b[0m     clip \u001b[39m=\u001b[39m clip\u001b[39m.\u001b[39mto_RGB()\n\u001b[1;32m---> 22\u001b[0m \u001b[39mreturn\u001b[39;00m f(clip, \u001b[39m*\u001b[39ma, \u001b[39m*\u001b[39m\u001b[39m*\u001b[39mk)\n",
      "File \u001b[1;32mc:\\Users\\phili\\anaconda3\\envs\\COIN_Environment\\lib\\site-packages\\moviepy\\video\\VideoClip.py:311\u001b[0m, in \u001b[0;36mVideoClip.write_videofile\u001b[1;34m(self, filename, fps, codec, bitrate, audio, audio_fps, preset, audio_nbytes, audio_codec, audio_bitrate, audio_bufsize, temp_audiofile, rewrite_audio, remove_temp, write_logfile, verbose, threads, ffmpeg_params, logger)\u001b[0m\n\u001b[0;32m    309\u001b[0m \u001b[39mif\u001b[39;00m remove_temp \u001b[39mand\u001b[39;00m make_audio:\n\u001b[0;32m    310\u001b[0m     \u001b[39mif\u001b[39;00m os\u001b[39m.\u001b[39mpath\u001b[39m.\u001b[39mexists(audiofile):\n\u001b[1;32m--> 311\u001b[0m         os\u001b[39m.\u001b[39;49mremove(audiofile)\n\u001b[0;32m    312\u001b[0m logger(message\u001b[39m=\u001b[39m\u001b[39m\"\u001b[39m\u001b[39mMoviepy - video ready \u001b[39m\u001b[39m%s\u001b[39;00m\u001b[39m\"\u001b[39m \u001b[39m%\u001b[39m filename)\n",
      "\u001b[1;31mPermissionError\u001b[0m: [WinError 32] Der Prozess kann nicht auf die Datei zugreifen, da sie von einem anderen Prozess verwendet wird: 'cut1jazzaar-20230417-afternoonTEMP_MPY_wvf_snd.mp3'"
     ]
    }
   ],
   "source": [
    "video_edit1 = video.subclip(0, (3,0))\n",
    "video_edit1.write_videofile(, codec = 'libx264')"
   ]
  },
  {
   "cell_type": "code",
   "execution_count": null,
   "metadata": {},
   "outputs": [],
   "source": [
    "def split_video(video_path, chunk_size):\n",
    "    # Load the video clip\n",
    "    video = VideoFileClip(video_path)\n",
    "\n",
    "    # Get the duration of the video in seconds\n",
    "    video_duration = video.duration\n",
    "\n",
    "    # Calculate the number of chunks required\n",
    "    num_chunks = int(video_duration / chunk_size) + 1\n",
    "\n",
    "    # Create a directory to store the video chunks\n",
    "    output_dir = 'video_chunks'\n",
    "    os.makedirs(output_dir, exist_ok=True)\n",
    "\n",
    "    # Split the video into chunks\n",
    "    for i in range(num_chunks):\n",
    "        start_time = i * chunk_size\n",
    "        end_time = min((i + 1) * chunk_size, video_duration)\n",
    "\n",
    "        # Extract the video clip between start_time and end_time\n",
    "        video_chunk = video.subclip(start_time, end_time)\n",
    "\n",
    "        # Generate the output filename\n",
    "        output_filename = os.path.join(output_dir, f'chunk_{i}.mp4')\n",
    "\n",
    "        # Write the video chunk to the output file\n",
    "        video_chunk.write_videofile(output_filename, codec='libx264')\n",
    "\n",
    "    # Close the video clip\n",
    "    video.close()\n",
    "\n",
    "# Example usage\n",
    "video_path = 'data\\Original Videos\\jazzaar-20230417-afternoon-JFLB-Cuban-Vocals-video Philipp.mp4'\n",
    "chunk_size = 1024 * 1024 * 1024  # 1GB in bytes\n",
    "\n",
    "split_video(video_path, chunk_size)"
   ]
  },
  {
   "cell_type": "code",
   "execution_count": null,
   "metadata": {},
   "outputs": [],
   "source": [
    "import os\n",
    "from moviepy.editor import VideoFileClip\n",
    "from os.path import getsize\n",
    "\n",
    "def split_video(video_path, chunk_size):\n",
    "    # Get the file size in bytes\n",
    "    video_size = getsize(video_path)\n",
    "\n",
    "    # Calculate the number of chunks required\n",
    "    num_chunks = int(video_size / chunk_size) + 1\n",
    "\n",
    "    # Create a directory to store the video chunks\n",
    "    output_dir = 'video_chunks'\n",
    "    os.makedirs(output_dir, exist_ok=True)\n",
    "\n",
    "    # Load the video clip\n",
    "    video = VideoFileClip(video_path)\n",
    "\n",
    "    # Split the video into chunks\n",
    "    for i in range(num_chunks):\n",
    "        start_byte = i * chunk_size\n",
    "        end_byte = min((i + 1) * chunk_size, video_size)\n",
    "\n",
    "        # Calculate the corresponding time duration\n",
    "        start_time = video.duration * start_byte / video_size\n",
    "        end_time = video.duration * end_byte / video_size\n",
    "\n",
    "        # Extract the video and audio between start_time and end_time\n",
    "        video_chunk = video.subclip(start_time, end_time)\n",
    "\n",
    "        # Generate the output filename\n",
    "        output_filename = os.path.join(output_dir, f'chunk_{i}.mp4')\n",
    "\n",
    "        # Write the video chunk to the output file\n",
    "        video_chunk.write_videofile(output_filename, codec='libx264', audio_codec='aac')\n",
    "\n",
    "    # Close the video clip\n",
    "    video.close()\n",
    "\n",
    "# Example usage\n",
    "video_path = 'data\\Original Videos\\jazzaar-20230417-afternoon-JFLB-Cuban-Vocals-video Philipp.mp4'\n",
    "chunk_size = 1024 * 1024 * 1024  # 1GB in bytes\n",
    "\n",
    "split_video(video_path, chunk_size)\n",
    "\n",
    "\n"
   ]
  }
 ],
 "metadata": {
  "kernelspec": {
   "display_name": "COIN_Environment",
   "language": "python",
   "name": "python3"
  },
  "language_info": {
   "codemirror_mode": {
    "name": "ipython",
    "version": 3
   },
   "file_extension": ".py",
   "mimetype": "text/x-python",
   "name": "python",
   "nbconvert_exporter": "python",
   "pygments_lexer": "ipython3",
   "version": "3.9.16"
  },
  "orig_nbformat": 4
 },
 "nbformat": 4,
 "nbformat_minor": 2
}
