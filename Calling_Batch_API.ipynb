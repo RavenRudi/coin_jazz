{
 "cells": [
  {
   "cell_type": "code",
   "execution_count": 6,
   "metadata": {},
   "outputs": [
    {
     "name": "stdout",
     "output_type": "stream",
     "text": [
      "{\"job_id\":\"81bdc928-6952-41a6-bf0f-f000036e4d02\"}\n"
     ]
    }
   ],
   "source": [
    "import requests\n",
    "\n",
    "url = \"https://api.hume.ai/v0/batch/jobs\"\n",
    "\n",
    "files = {\"file\": (\"data/Cut_Videos_zip.zip\", open(\"data/Cut_Videos_zip.zip\", \"rb\"), \"video/mp4\")}\n",
    "payload = {\"json\": \"{\\\"models\\\":{\\\"face\\\":{\\\"fps_pred\\\":5,\\\"prob_threshold\\\":0.99,\\\"identify_faces\\\":true,\\\"min_face_size\\\":60,\\\"save_faces\\\":false},\\\"prosody\\\":{\\\"granularity\\\":\\\"utterance\\\",\\\"identify_speakers\\\":false,\\\"window\\\":{\\\"length\\\":4,\\\"step\\\":1}},\\\"language\\\":{\\\"granularity\\\":\\\"word\\\",\\\"identify_speakers\\\":true},\\\"ner\\\":{\\\"identify_speakers\\\":false}},\\\"transcription\\\":{\\\"language\\\":null},\\\"notify\\\":false}\"}\n",
    "headers = {\n",
    "    \"accept\": \"application/json\",\n",
    "    \"X-Hume-Api-Key\": \"8vNtx0WMeAGVbdx7fiFOyhmYnnDq6BAP3B288un270N60oJa\"\n",
    "}\n",
    "\n",
    "response = requests.post(url, data=payload, files=files, headers=headers)\n",
    "\n",
    "print(response.text)"
   ]
  },
  {
   "cell_type": "code",
   "execution_count": 8,
   "metadata": {},
   "outputs": [
    {
     "name": "stdout",
     "output_type": "stream",
     "text": [
      "{\"message\":\"Job has failed.\",\"status\":400}\n"
     ]
    }
   ],
   "source": [
    "import requests\n",
    "\n",
    "url = \"https://api.hume.ai/v0/batch/jobs/81bdc928-6952-41a6-bf0f-f000036e4d02/predictions\"\n",
    "\n",
    "headers = {\n",
    "    \"accept\": \"application/json; charset=utf-8\",\n",
    "    \"X-Hume-Api-Key\": \"8vNtx0WMeAGVbdx7fiFOyhmYnnDq6BAP3B288un270N60oJa\"\n",
    "}\n",
    "\n",
    "response = requests.get(url, headers=headers)\n",
    "\n",
    "print(response.text)"
   ]
  }
 ],
 "metadata": {
  "kernelspec": {
   "display_name": "COIN_Environment",
   "language": "python",
   "name": "python3"
  },
  "language_info": {
   "codemirror_mode": {
    "name": "ipython",
    "version": 3
   },
   "file_extension": ".py",
   "mimetype": "text/x-python",
   "name": "python",
   "nbconvert_exporter": "python",
   "pygments_lexer": "ipython3",
   "version": "3.9.16"
  },
  "orig_nbformat": 4
 },
 "nbformat": 4,
 "nbformat_minor": 2
}
