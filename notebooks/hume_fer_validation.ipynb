{
 "cells": [
  {
   "cell_type": "code",
   "execution_count": 30,
   "metadata": {},
   "outputs": [],
   "source": [
    "import pandas as pd\n",
    "import matplotlib.pyplot as plt\n",
    "from scipy.stats import pearsonr, spearmanr\n",
    "import seaborn as sns\n",
    "import numpy as np"
   ]
  },
  {
   "cell_type": "code",
   "execution_count": 31,
   "metadata": {},
   "outputs": [],
   "source": [
    "def prepare_hume_data(path):\n",
    "    df_facial = pd.read_csv(path, index_col=0)\n",
    "    df_facial.drop('start', axis=1, inplace=True)\n",
    "    df_facial.columns = ['hume_anger', 'hume_disgust', 'hume_fear', 'hume_joy', 'hume_sadness', 'hume_surprise', 'hume_neutral', 'start_patch']\n",
    "    df_facial['start_patch'] = df_facial['start_patch'].astype('int64')\n",
    "    df_facial = df_facial.groupby('start_patch').mean().reset_index()\n",
    "    return df_facial\n",
    "    "
   ]
  },
  {
   "cell_type": "code",
   "execution_count": 35,
   "metadata": {},
   "outputs": [],
   "source": [
    "def merge_text_hume_data(df_hume, df_fer):\n",
    "    df_merged = pd.merge(df_hume, df_fer, on=['start_patch'], how='inner').drop('start_patch', axis=1)\n",
    "    return df_merged"
   ]
  },
  {
   "cell_type": "code",
   "execution_count": 32,
   "metadata": {},
   "outputs": [],
   "source": [
    "def prepare_fer_data(path):\n",
    "    df_facial = pd.read_csv(path, index_col=0)\n",
    "    #df_facial.drop('start', axis=1, inplace=True)\n",
    "    df_facial.columns = ['fer_anger', 'fer_disgust', 'fer_fear', 'fer_joy', 'fer_sadness', 'fer_surprise', 'fer_neutral', 'start_patch']\n",
    "    df_facial['start_patch'] = df_facial['start_patch'].astype('int64')\n",
    "    df_facial = df_facial.groupby('start_patch').mean().reset_index()\n",
    "    return df_facial\n",
    "    "
   ]
  },
  {
   "cell_type": "code",
   "execution_count": 28,
   "metadata": {},
   "outputs": [],
   "source": [
    "def compare_csv_data(df1_name_hume, df2_name):\n",
    "    # Read the CSV files into pandas DataFrames\n",
    "    df1 = df1_name_hume\n",
    "    df2 = df2_name\n",
    "    \n",
    "    # Extract the emotion columns from each DataFrame\n",
    "    hume_emotions = ['hume_anger', 'hume_disgust', 'hume_fear', 'hume_joy', 'hume_sadness', 'hume_surprise', 'hume_neutral']\n",
    "\n",
    "    fer_emotions = ['fer_anger', 'fer_disgust', 'fer_fear', 'fer_joy', 'fer_sadness', 'fer_surprise', 'fer_neutral']\n",
    "    \n",
    "    # # Iterate over the emotion columns and plot the data for each file\n",
    "    # for emotion in hume_emotions:\n",
    "    #     plt.figure()\n",
    "    #     plt.plot(df1['hume_start_patch'], df1[emotion], label= str('hume'))\n",
    "    #     plt.xlabel('Timestamp')\n",
    "    #     plt.ylabel('Score')\n",
    "    #     plt.title('Comparison of ' + emotion)\n",
    "    #     plt.legend()\n",
    "    #     plt.show()\n",
    "\n",
    "    # for emotion in fer_emotions:\n",
    "    #     plt.figure()\n",
    "    #     plt.plot(df2['fer_start_patch'], df2[emotion], label= str('fer'))\n",
    "    #     plt.xlabel('Timestamp')\n",
    "    #     plt.ylabel('Score')\n",
    "    #     plt.title('Comparison of ' + emotion)\n",
    "    #     plt.legend()\n",
    "    #     plt.show()\n",
    "\n",
    "    plt.figure()\n",
    "    plt.plot(df1['start_patch'], df1['hume_anger'], label= str('hume'))\n",
    "    plt.plot(df2['start_patch'], df2['fer_anger'], label= str('fer'))\n",
    "    plt.xlabel('Timestamp')\n",
    "    plt.ylabel('Score')\n",
    "    plt.title('Comparison of ' + 'Anger')\n",
    "    plt.legend()\n",
    "    plt.show()\n"
   ]
  },
  {
   "cell_type": "code",
   "execution_count": 6,
   "metadata": {},
   "outputs": [],
   "source": [
    "def get_correlations_with_binary(df, binary_feature, continuous_features, corr_func= pearsonr ):\n",
    "    df = df.dropna()\n",
    "    correlation_data = []\n",
    "    for feature in continuous_features:\n",
    "        corr, p_value = corr_func(df[feature], df[binary_feature])\n",
    "        correlation_data.append((feature, corr, p_value))\n",
    "    \n",
    "    data = correlation_data\n",
    "    # Extract feature names, correlations, and p-values\n",
    "    features = [item[0] for item in data]\n",
    "    correlations = [item[1] for item in data]\n",
    "    p_values = [item[2] for item in data]\n",
    "\n",
    "    # Create a figure and axes\n",
    "    fig, ax = plt.subplots(figsize=(10, 6))\n",
    "\n",
    "    # Plot the correlations as vertical bars\n",
    "    ax.bar(features, correlations, color='steelblue')\n",
    "\n",
    "    # Set the y-axis label\n",
    "    ax.set_ylabel('Correlation')\n",
    "\n",
    "    # Add horizontal gridlines\n",
    "    ax.yaxis.grid(True)\n",
    "\n",
    "    # Set the title\n",
    "    ax.set_title('Correlation with Binary Variable')\n",
    "\n",
    "    # Add error bars representing p-values\n",
    "    ax.errorbar(features, correlations, yerr=np.abs(correlations), fmt='none', color='black', capsize=5, label='p-value')\n",
    "\n",
    "    # Add p-values and absolute correlation values as text annotations\n",
    "    for feature, correlation, p_value in zip(features, correlations, p_values):\n",
    "        ax.text(feature, 0, f'p={p_value:.2f}', ha='center', va='bottom')\n",
    "        ax.text(feature, correlation, f'{abs(correlation):.2f}', ha='center', va='top')\n",
    "\n",
    "    # Rotate x-axis labels for better visibility\n",
    "    plt.xticks(rotation=45, ha='right')\n",
    "\n",
    "    # Display the plot\n",
    "    plt.tight_layout()\n",
    "    plt.show()\n",
    "    return data"
   ]
  },
  {
   "cell_type": "code",
   "execution_count": 33,
   "metadata": {},
   "outputs": [],
   "source": [
    "df_hume_1 = prepare_hume_data('../data/hume/processed/Cuban_vocals_afternoon.csv')"
   ]
  },
  {
   "cell_type": "code",
   "execution_count": 34,
   "metadata": {},
   "outputs": [],
   "source": [
    "df_fer_1 = prepare_fer_data('../data/FER_Output/processed/Cuban_vocals_afternoon.csv')"
   ]
  },
  {
   "cell_type": "code",
   "execution_count": 36,
   "metadata": {},
   "outputs": [],
   "source": [
    "df = merge_text_hume_data(df_hume_1, df_fer_1)"
   ]
  },
  {
   "cell_type": "code",
   "execution_count": 41,
   "metadata": {},
   "outputs": [
    {
     "data": {
      "text/html": [
       "<div>\n",
       "<style scoped>\n",
       "    .dataframe tbody tr th:only-of-type {\n",
       "        vertical-align: middle;\n",
       "    }\n",
       "\n",
       "    .dataframe tbody tr th {\n",
       "        vertical-align: top;\n",
       "    }\n",
       "\n",
       "    .dataframe thead th {\n",
       "        text-align: right;\n",
       "    }\n",
       "</style>\n",
       "<table border=\"1\" class=\"dataframe\">\n",
       "  <thead>\n",
       "    <tr style=\"text-align: right;\">\n",
       "      <th></th>\n",
       "      <th>hume_anger</th>\n",
       "      <th>hume_disgust</th>\n",
       "      <th>hume_fear</th>\n",
       "      <th>hume_joy</th>\n",
       "      <th>hume_sadness</th>\n",
       "      <th>hume_surprise</th>\n",
       "      <th>hume_neutral</th>\n",
       "      <th>fer_anger</th>\n",
       "      <th>fer_disgust</th>\n",
       "      <th>fer_fear</th>\n",
       "      <th>fer_joy</th>\n",
       "      <th>fer_sadness</th>\n",
       "      <th>fer_surprise</th>\n",
       "      <th>fer_neutral</th>\n",
       "    </tr>\n",
       "  </thead>\n",
       "  <tbody>\n",
       "    <tr>\n",
       "      <th>0</th>\n",
       "      <td>0.080229</td>\n",
       "      <td>0.118816</td>\n",
       "      <td>0.136176</td>\n",
       "      <td>0.162982</td>\n",
       "      <td>0.152095</td>\n",
       "      <td>0.092143</td>\n",
       "      <td>0.228988</td>\n",
       "      <td>0.067686</td>\n",
       "      <td>0.001125</td>\n",
       "      <td>0.070315</td>\n",
       "      <td>0.334529</td>\n",
       "      <td>0.175410</td>\n",
       "      <td>0.021016</td>\n",
       "      <td>0.329175</td>\n",
       "    </tr>\n",
       "    <tr>\n",
       "      <th>1</th>\n",
       "      <td>0.071581</td>\n",
       "      <td>0.151962</td>\n",
       "      <td>0.163758</td>\n",
       "      <td>0.079768</td>\n",
       "      <td>0.229175</td>\n",
       "      <td>0.084195</td>\n",
       "      <td>0.254804</td>\n",
       "      <td>0.050904</td>\n",
       "      <td>0.000098</td>\n",
       "      <td>0.085481</td>\n",
       "      <td>0.346783</td>\n",
       "      <td>0.243870</td>\n",
       "      <td>0.021987</td>\n",
       "      <td>0.250494</td>\n",
       "    </tr>\n",
       "    <tr>\n",
       "      <th>2</th>\n",
       "      <td>0.078854</td>\n",
       "      <td>0.143309</td>\n",
       "      <td>0.152117</td>\n",
       "      <td>0.116091</td>\n",
       "      <td>0.194307</td>\n",
       "      <td>0.089055</td>\n",
       "      <td>0.243884</td>\n",
       "      <td>0.046936</td>\n",
       "      <td>0.000289</td>\n",
       "      <td>0.060309</td>\n",
       "      <td>0.300592</td>\n",
       "      <td>0.259693</td>\n",
       "      <td>0.026629</td>\n",
       "      <td>0.304703</td>\n",
       "    </tr>\n",
       "    <tr>\n",
       "      <th>3</th>\n",
       "      <td>0.075519</td>\n",
       "      <td>0.135794</td>\n",
       "      <td>0.155839</td>\n",
       "      <td>0.116950</td>\n",
       "      <td>0.196756</td>\n",
       "      <td>0.088541</td>\n",
       "      <td>0.228531</td>\n",
       "      <td>0.073927</td>\n",
       "      <td>0.000489</td>\n",
       "      <td>0.081842</td>\n",
       "      <td>0.273829</td>\n",
       "      <td>0.267290</td>\n",
       "      <td>0.036310</td>\n",
       "      <td>0.265434</td>\n",
       "    </tr>\n",
       "    <tr>\n",
       "      <th>4</th>\n",
       "      <td>0.069351</td>\n",
       "      <td>0.132777</td>\n",
       "      <td>0.140830</td>\n",
       "      <td>0.152588</td>\n",
       "      <td>0.171982</td>\n",
       "      <td>0.091472</td>\n",
       "      <td>0.208141</td>\n",
       "      <td>0.060674</td>\n",
       "      <td>0.000330</td>\n",
       "      <td>0.064093</td>\n",
       "      <td>0.409679</td>\n",
       "      <td>0.204057</td>\n",
       "      <td>0.026334</td>\n",
       "      <td>0.233983</td>\n",
       "    </tr>\n",
       "  </tbody>\n",
       "</table>\n",
       "</div>"
      ],
      "text/plain": [
       "   hume_anger  hume_disgust  hume_fear  hume_joy  hume_sadness  hume_surprise  \\\n",
       "0    0.080229      0.118816   0.136176  0.162982      0.152095       0.092143   \n",
       "1    0.071581      0.151962   0.163758  0.079768      0.229175       0.084195   \n",
       "2    0.078854      0.143309   0.152117  0.116091      0.194307       0.089055   \n",
       "3    0.075519      0.135794   0.155839  0.116950      0.196756       0.088541   \n",
       "4    0.069351      0.132777   0.140830  0.152588      0.171982       0.091472   \n",
       "\n",
       "   hume_neutral  fer_anger  fer_disgust  fer_fear   fer_joy  fer_sadness  \\\n",
       "0      0.228988   0.067686     0.001125  0.070315  0.334529     0.175410   \n",
       "1      0.254804   0.050904     0.000098  0.085481  0.346783     0.243870   \n",
       "2      0.243884   0.046936     0.000289  0.060309  0.300592     0.259693   \n",
       "3      0.228531   0.073927     0.000489  0.081842  0.273829     0.267290   \n",
       "4      0.208141   0.060674     0.000330  0.064093  0.409679     0.204057   \n",
       "\n",
       "   fer_surprise  fer_neutral  \n",
       "0      0.021016     0.329175  \n",
       "1      0.021987     0.250494  \n",
       "2      0.026629     0.304703  \n",
       "3      0.036310     0.265434  \n",
       "4      0.026334     0.233983  "
      ]
     },
     "execution_count": 41,
     "metadata": {},
     "output_type": "execute_result"
    }
   ],
   "source": [
    "df.head(5)"
   ]
  },
  {
   "cell_type": "code",
   "execution_count": 29,
   "metadata": {},
   "outputs": [
    {
     "data": {
      "image/png": "[encoded data removed]",
      "text/plain": [
       "<Figure size 640x480 with 1 Axes>"
      ]
     },
     "metadata": {},
     "output_type": "display_data"
    }
   ],
   "source": [
    "compare_csv_data(df_hume_1, df_fer_1)"
   ]
  },
  {
   "cell_type": "code",
   "execution_count": null,
   "metadata": {},
   "outputs": [],
   "source": [
    "df_hume_2 = prepare_hume_data('../data/hume/processed/Cuban_vocals_morning.csv')"
   ]
  },
  {
   "cell_type": "code",
   "execution_count": null,
   "metadata": {},
   "outputs": [],
   "source": [
    "compare_csv_data(df_hume_2, '../data/FER_Output/processed/Cuban_vocals_morning.csv')"
   ]
  },
  {
   "cell_type": "code",
   "execution_count": null,
   "metadata": {},
   "outputs": [],
   "source": [
    "df_hume_3 = prepare_hume_data('../data/hume/processed/Funk_band_morning.csv')"
   ]
  },
  {
   "cell_type": "code",
   "execution_count": null,
   "metadata": {},
   "outputs": [],
   "source": [
    "compare_csv_data(df_hume_3, '../data/FER_Output/processed/Funk_band_morning.csv')"
   ]
  },
  {
   "cell_type": "code",
   "execution_count": null,
   "metadata": {},
   "outputs": [],
   "source": [
    "df_hume_4 = prepare_hume_data('../data/hume/processed/Funk_rhythm_morning.csv')"
   ]
  },
  {
   "cell_type": "code",
   "execution_count": null,
   "metadata": {},
   "outputs": [],
   "source": [
    "compare_csv_data(df_hume_4, '../data/FER_Output/processed/Funk_rhythm_morning.csv')"
   ]
  }
 ],
 "metadata": {
  "kernelspec": {
   "display_name": "COIN_Environment",
   "language": "python",
   "name": "python3"
  },
  "language_info": {
   "codemirror_mode": {
    "name": "ipython",
    "version": 3
   },
   "file_extension": ".py",
   "mimetype": "text/x-python",
   "name": "python",
   "nbconvert_exporter": "python",
   "pygments_lexer": "ipython3",
   "version": "3.9.16"
  },
  "orig_nbformat": 4
 },
 "nbformat": 4,
 "nbformat_minor": 2
}
