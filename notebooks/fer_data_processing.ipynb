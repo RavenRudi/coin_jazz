{
 "cells": [
  {
   "cell_type": "code",
   "execution_count": 1,
   "metadata": {},
   "outputs": [],
   "source": [
    "import pandas as pd\n",
    "import matplotlib.pyplot as plt\n",
    "import numpy as np\n",
    "import glob"
   ]
  },
  {
   "cell_type": "code",
   "execution_count": 2,
   "metadata": {},
   "outputs": [],
   "source": [
    "def load_fer_output_data(path):\n",
    "    csv_files = glob.glob(path + \"/*.csv\")\n",
    "    csv_files.sort()\n",
    "\n",
    "    df_list = (pd.read_csv(file) for file in csv_files)\n",
    "\n",
    "    \n",
    "    # Concatenate all DataFrames\n",
    "    df = pd.concat(df_list, ignore_index=True)\n",
    "    df.columns = ['anger', 'disgust', 'fear', 'joy', 'sadness', 'surprise', 'neutral']\n",
    "    df['start']= [0.1*count for count in range(len(df))]\n",
    "    df['end'] = [0.1*count for count in range(1,len(df)+1)]\n",
    "\n",
    "    return df"
   ]
  },
  {
   "cell_type": "code",
   "execution_count": 3,
   "metadata": {},
   "outputs": [],
   "source": [
    "def load_patch_fer_output_data(path):\n",
    "    csv_files = glob.glob(path + \"/*\")\n",
    "    csv_files.sort()\n",
    "\n",
    "    df_list = [pd.read_csv(file).mean().to_list() for file in csv_files]\n",
    "    \n",
    "    df = pd.DataFrame(df_list, columns=['anger', 'disgust', 'fear', 'joy', 'sadness', 'surprise', 'neutral'])\n",
    "    df['start_patch']= [5*count for count in range(len(df))]\n",
    "    # df['end'] = [5*count for count in range(1,len(df)+1)]\n",
    "\n",
    "\n",
    "    return df"
   ]
  },
  {
   "cell_type": "code",
   "execution_count": 4,
   "metadata": {},
   "outputs": [],
   "source": [
    "df_facial_vocals_morning = load_patch_fer_output_data('../data/FER_Output/2_jazzaar-20230417-morning-JFLB-Cuban-Vocals-video Philipp/2_csv')\n",
    "df_vocal_afternoon = load_patch_fer_output_data('../data/FER_Output/1_jazzaar-afternoon-JFLB-Cuban-Vocals-video/1_csv')\n",
    "df_rhythm_morning = load_patch_fer_output_data('../data/FER_Output/6_5-JFBB_Rythm_Morning/6_csv')\n",
    "df_rhythm_afternoon = load_patch_fer_output_data('../data/FER_Output/5-JFBB_Rythm_Afternoon/5_csv')\n",
    "df_band_morning = load_patch_fer_output_data('../data/FER_Output/4_JFBB_Jazz_Funk_morning/4_csv')\n",
    "df_band_afternoon = load_patch_fer_output_data('../data/FER_Output/3_JFBB_Jazz_Funk_afternoon_video20230419143359 Luis Cal García/3_csv')\n"
   ]
  },
  {
   "cell_type": "code",
   "execution_count": 5,
   "metadata": {},
   "outputs": [],
   "source": [
    "df_facial_vocals_morning.to_csv('../data/FER_Output/processed/Cuban_vocals_morning.csv')\n",
    "df_vocal_afternoon.to_csv('../data/FER_Output/processed/Cuban_vocals_afternoon.csv')\n",
    "df_rhythm_morning.to_csv('../data/FER_Output/processed/Funk_rhythm_morning.csv')\n",
    "df_rhythm_afternoon.to_csv('../data/FER_Output/processed/Funk_rhythm_afternoon.csv')\n",
    "df_band_morning.to_csv('../data/FER_Output/processed/Funk_band_morning.csv')\n",
    "df_band_afternoon.to_csv('../data/FER_Output/processed/Funk_band_afternoon.csv')\n"
   ]
  }
 ],
 "metadata": {
  "kernelspec": {
   "display_name": "aaWorkshop",
   "language": "python",
   "name": "aaworkshop"
  },
  "language_info": {
   "codemirror_mode": {
    "name": "ipython",
    "version": 3
   },
   "file_extension": ".py",
   "mimetype": "text/x-python",
   "name": "python",
   "nbconvert_exporter": "python",
   "pygments_lexer": "ipython3",
   "version": "3.9.13"
  },
  "orig_nbformat": 4
 },
 "nbformat": 4,
 "nbformat_minor": 2
}
