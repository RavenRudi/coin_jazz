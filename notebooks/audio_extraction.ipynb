{
 "cells": [
  {
   "cell_type": "code",
   "execution_count": 1,
   "metadata": {},
   "outputs": [
    {
     "name": "stdout",
     "output_type": "stream",
     "text": [
      "MoviePy - Writing audio in ../data/audios/jazzaar-20230417-morning-JFLB-Cuban-Vocals-video Philipp.wav\n"
     ]
    },
    {
     "name": "stderr",
     "output_type": "stream",
     "text": [
      "                                                                          "
     ]
    },
    {
     "name": "stdout",
     "output_type": "stream",
     "text": [
      "MoviePy - Done.\n"
     ]
    },
    {
     "name": "stderr",
     "output_type": "stream",
     "text": [
      "\r"
     ]
    }
   ],
   "source": [
    "import moviepy.editor as mp\n",
    "VIDEOS = [\"JFBB_Rhythm_Section_Day1_Morning Thomas.mp4\", \"JFBB_Rhythm_Section_Day1_Afternoon Thomas.mp4\", \"JFBB_Jazz_Funk_morning_video20230419101818 Luis Cal García.mp4\", \"JFBB_Jazz_Funk_afternoon_video20230419143359 Luis Cal García.mp4\", \"jazzaar-20230417-afternoon-JFLB-Cuban-Vocals-video Philipp.mp4\", \"jazzaar-20230417-morning-JFLB-Cuban-Vocals-video Philipp.mp4\"]\n",
    "VIDEOS=[\"jazzaar-20230417-morning-JFLB-Cuban-Vocals-video Philipp.mp4\"]\n",
    "\n",
    "for video in VIDEOS:\n",
    "    my_clip = mp.VideoFileClip(f\"../data/videos/{video}\")\n",
    "    my_clip.audio.write_audiofile(f\"../data/audios/{video.split('.')[0]}.wav\")"
   ]
  }
 ],
 "metadata": {
  "kernelspec": {
   "display_name": "handsOn",
   "language": "python",
   "name": "python3"
  },
  "language_info": {
   "codemirror_mode": {
    "name": "ipython",
    "version": 3
   },
   "file_extension": ".py",
   "mimetype": "text/x-python",
   "name": "python",
   "nbconvert_exporter": "python",
   "pygments_lexer": "ipython3",
   "version": "3.9.7"
  },
  "orig_nbformat": 4
 },
 "nbformat": 4,
 "nbformat_minor": 2
}
