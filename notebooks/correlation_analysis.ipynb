{
 "cells": [
  {
   "cell_type": "code",
   "execution_count": 3,
   "metadata": {},
   "outputs": [],
   "source": [
    "import pandas as pd\n",
    "import glob\n",
    "import numpy as np"
   ]
  },
  {
   "attachments": {},
   "cell_type": "markdown",
   "metadata": {},
   "source": [
    "# Helper Functions"
   ]
  },
  {
   "cell_type": "code",
   "execution_count": 144,
   "metadata": {},
   "outputs": [],
   "source": [
    "def load_fer_output_data(path):\n",
    "    csv_files = glob.glob(path + \"/*.csv\")\n",
    "    csv_files.sort()\n",
    "\n",
    "    df_list = (pd.read_csv(file) for file in csv_files)\n",
    " \n",
    "    # Concatenate all DataFrames\n",
    "    df = pd.concat(df_list, ignore_index=True)\n",
    "    df.columns = ['anger', 'disgust', 'fear', 'joy', 'sadness', 'surprise', 'neutral']\n",
    "    df['start']= [0.1*count for count in range(len(df))]\n",
    "    df['end'] = [0.1*count for count in range(1,len(df)+1)]\n",
    "\n",
    "    return df"
   ]
  },
  {
   "cell_type": "code",
   "execution_count": 6,
   "metadata": {},
   "outputs": [],
   "source": [
    "def load_patch_fer_output_data(path):\n",
    "    csv_files = glob.glob(path + \"/*\")\n",
    "    csv_files.sort()\n",
    "\n",
    "    df_list = [pd.read_csv(file).mean().to_list() for file in csv_files]\n",
    "    \n",
    "    df = pd.DataFrame(df_list, columns=['anger', 'disgust', 'fear', 'joy', 'sadness', 'surprise', 'neutral'])\n",
    "    df['start_patch']= [5*count for count in range(len(df))]\n",
    "    # df['end'] = [5*count for count in range(1,len(df)+1)]\n",
    "\n",
    "\n",
    "    return df"
   ]
  },
  {
   "cell_type": "code",
   "execution_count": 181,
   "metadata": {},
   "outputs": [],
   "source": [
    "def merge_text_fer_data(df_facial, df_text):\n",
    "    df_text = df_text.copy()\n",
    "    df_facial = df_facial.copy()\n",
    "    df_facial = df_facial.drop('end', axis=1)\n",
    "    df_facial.columns = ['facial_anger', 'facial_disgust', 'facial_fear', 'facial_joy', 'facial_sadness', 'facial_surprise', 'facial_neutral', 'start_patch']\n",
    "    df_text['start_patch'] = np.floor(((df_text['start']/60)/5))*5\n",
    "    df_text['start'] = np.floor((df_text['start']/60))\n",
    "    df_text = df_text.groupby('start_patch')['anger', 'disgust', 'fear', 'joy', 'sadness', 'surprise', 'neutral'].mean().reset_index()\n",
    "    df_text.columns = ['start_patch', 'text_anger', 'text_disgust', 'text_fear', 'text_joy', 'text_sadness', 'text_surprise', 'text_neutral']\n",
    "    df_merged = pd.merge(df_text, df_facial, on=['start_patch'], how='inner').drop('start_patch', axis=1)\n",
    "    return df_merged"
   ]
  },
  {
   "cell_type": "code",
   "execution_count": 228,
   "metadata": {},
   "outputs": [],
   "source": [
    "def load_aggregate_hume_emotions(path):\n",
    "    # Emotion mapping \n",
    "    ANGER = ['Anger', 'Contempt', 'Determination', 'Envy']\n",
    "    DISGUST = ['Awkwardness', 'Disgust', 'Embarrassment', 'Tiredness']\n",
    "    ENJOYMENT = ['Admiration','Adoration','Aesthetic Appreciation','Amusement','Contentment','Ecstasy','Entrancement','Joy','Love','Romance','Satisfaction','Sympathy','Triumph']\n",
    "    FEAR = ['Anxiety','Awe','Distress','Doubt','Fear','Horror','Pain']\n",
    "    NEUTRAL = ['Boredom','Calmness','Concentration','Contemplation']\n",
    "    SADNESS = ['Confusion','Disappointment','Empathic Pain','Guilt','Nostalgia','Sadness','Shame']\n",
    "    SURPRISE = ['Craving','Desire','Excitement','Interest','Pride','Realization','Relief','Surprise (negative)','Surprise (positive)']\n",
    "\n",
    "    df_org = pd.read_csv(path, index_col=0)\n",
    "    df = pd.DataFrame(df_org[ANGER].mean(axis=1), columns=['anger'])\n",
    "    df['disgust'] = df_org[DISGUST].mean(axis=1)\n",
    "    df['fear'] = df_org[FEAR].mean(axis=1)\n",
    "    df['joy'] = df_org[ENJOYMENT].mean(axis=1)\n",
    "    df['sadness'] = df_org[SADNESS].mean(axis=1)\n",
    "    df['surprise'] = df_org[SURPRISE].mean(axis=1)\n",
    "    df['neutral'] = df_org[NEUTRAL].mean(axis=1)\n",
    "\n",
    "    df['start_patch'] = np.floor(((df_org['time']/60)/5))*5\n",
    "    # df = df.groupby('start_patch')['anger', 'disgust', 'fear', 'joy', 'sadness', 'surprise', 'neutral'].mean().reset_index()\n",
    "    \n",
    "    return df\n"
   ]
  },
  {
   "attachments": {},
   "cell_type": "markdown",
   "metadata": {},
   "source": [
    "# FER/Text Correlations"
   ]
  },
  {
   "cell_type": "code",
   "execution_count": 52,
   "metadata": {},
   "outputs": [],
   "source": [
    "df_facial_vocals_morning = load_patch_fer_output_data('../data/FER_Output/2_jazzaar-20230417-morning-JFLB-Cuban-Vocals-video Philipp/2_csv')\n",
    "df_vocal_afternoon = load_patch_fer_output_data('../data/FER_Output/1_jazzaar-afternoon-JFLB-Cuban-Vocals-video/1_csv')\n",
    "df_rhythm_morning = load_patch_fer_output_data('../data/FER_Output/6_5-JFBB_Rythm_Morning/6_csv')\n",
    "df_rhythm_afternoon = load_patch_fer_output_data('../data/FER_Output/5-JFBB_Rythm_Afternoon/5_csv')\n",
    "df_band_morning = load_patch_fer_output_data('../data/FER_Output/4_JFBB_Jazz_Funk_morning/4_csv')\n",
    "df_band_afternoon = load_patch_fer_output_data('../data/FER_Output/3_JFBB_Jazz_Funk_afternoon_video20230419143359 Luis Cal García/3_csv')\n"
   ]
  },
  {
   "cell_type": "code",
   "execution_count": 54,
   "metadata": {},
   "outputs": [],
   "source": [
    "df_facial_vocals_morning = df_facial_vocals_morning.to_csv('../data/FER_Output/processed/Cuban_vocals_morning.csv')\n",
    "df_vocal_afternoon = df_vocal_afternoon.to_csv('../data/FER_Output/Cuban_vocals_afternoon.csv')\n",
    "df_rhythm_morning = df_rhythm_morning.to_csv('../data/FER_Output/Funk_rhythm_morning.csv')\n",
    "df_rhythm_afternoon = df_rhythm_afternoon.to_csv('../data/FER_Output/Funk_rhythm_afternoon.csv')\n",
    "df_band_morning = df_band_morning.to_csv('../data/FER_Output/Funk_band_morning.csv')\n",
    "df_band_afternoon = df_band_afternoon.to_csv('../data/FER_Output/Funk_band_afternoon.csv')\n"
   ]
  },
  {
   "cell_type": "code",
   "execution_count": null,
   "metadata": {},
   "outputs": [],
   "source": [
    "df_rhythm_morning.to_csv('../data/hume/processed/Funk_rhythm_morning.csv')\n",
    "df_band_morning.to_csv('../data/hume/processed/Funk_band_morning.csv')\n",
    "df_vocals_afternoon.to_csv('../data/hume/processed/Cuban_vocals_afternoon.csv')\n",
    "df_vocals_morning.to_csv('../data/hume/processed/Cuban_vocals_morning.csv')"
   ]
  },
  {
   "cell_type": "code",
   "execution_count": 185,
   "metadata": {},
   "outputs": [],
   "source": [
    "df_text_vocals_morning = pd.read_csv('../data/emotion_from_transcript/emotion-english-distilroberta-base/jazzaar-20230417-morning-JFLB-Cuban-Vocals-video Philipp.csv', index_col=0)"
   ]
  },
  {
   "cell_type": "code",
   "execution_count": 207,
   "metadata": {},
   "outputs": [
    {
     "name": "stderr",
     "output_type": "stream",
     "text": [
      "/tmp/ipykernel_3620/4211503723.py:8: FutureWarning: Indexing with multiple keys (implicitly converted to a tuple of keys) will be deprecated, use a list instead.\n",
      "  df_text = df_text.groupby('start_patch')['anger', 'disgust', 'fear', 'joy', 'sadness', 'surprise', 'neutral'].mean().reset_index()\n"
     ]
    },
    {
     "data": {
      "text/html": [
       "<div>\n",
       "<style scoped>\n",
       "    .dataframe tbody tr th:only-of-type {\n",
       "        vertical-align: middle;\n",
       "    }\n",
       "\n",
       "    .dataframe tbody tr th {\n",
       "        vertical-align: top;\n",
       "    }\n",
       "\n",
       "    .dataframe thead th {\n",
       "        text-align: right;\n",
       "    }\n",
       "</style>\n",
       "<table border=\"1\" class=\"dataframe\">\n",
       "  <thead>\n",
       "    <tr style=\"text-align: right;\">\n",
       "      <th></th>\n",
       "      <th>facial_anger</th>\n",
       "      <th>facial_disgust</th>\n",
       "      <th>facial_fear</th>\n",
       "      <th>facial_joy</th>\n",
       "      <th>facial_sadness</th>\n",
       "      <th>facial_surprise</th>\n",
       "      <th>facial_neutral</th>\n",
       "    </tr>\n",
       "  </thead>\n",
       "  <tbody>\n",
       "    <tr>\n",
       "      <th>text_anger</th>\n",
       "      <td>0.088131</td>\n",
       "      <td>-0.046638</td>\n",
       "      <td>-0.166281</td>\n",
       "      <td>-0.079025</td>\n",
       "      <td>0.032596</td>\n",
       "      <td>0.352811</td>\n",
       "      <td>-0.079247</td>\n",
       "    </tr>\n",
       "    <tr>\n",
       "      <th>text_disgust</th>\n",
       "      <td>-0.037573</td>\n",
       "      <td>-0.133239</td>\n",
       "      <td>-0.128602</td>\n",
       "      <td>0.218443</td>\n",
       "      <td>-0.005819</td>\n",
       "      <td>-0.116359</td>\n",
       "      <td>-0.048432</td>\n",
       "    </tr>\n",
       "    <tr>\n",
       "      <th>text_fear</th>\n",
       "      <td>0.136245</td>\n",
       "      <td>-0.338267</td>\n",
       "      <td>-0.332244</td>\n",
       "      <td>-0.136314</td>\n",
       "      <td>-0.360337</td>\n",
       "      <td>0.407742</td>\n",
       "      <td>0.314530</td>\n",
       "    </tr>\n",
       "    <tr>\n",
       "      <th>text_joy</th>\n",
       "      <td>0.036551</td>\n",
       "      <td>0.213681</td>\n",
       "      <td>0.436095</td>\n",
       "      <td>-0.045756</td>\n",
       "      <td>0.077573</td>\n",
       "      <td>-0.260738</td>\n",
       "      <td>-0.201377</td>\n",
       "    </tr>\n",
       "    <tr>\n",
       "      <th>text_sadness</th>\n",
       "      <td>-0.227920</td>\n",
       "      <td>0.429767</td>\n",
       "      <td>-0.056182</td>\n",
       "      <td>0.335701</td>\n",
       "      <td>0.168237</td>\n",
       "      <td>-0.068511</td>\n",
       "      <td>-0.160812</td>\n",
       "    </tr>\n",
       "    <tr>\n",
       "      <th>text_surprise</th>\n",
       "      <td>0.510384</td>\n",
       "      <td>-0.044646</td>\n",
       "      <td>0.179982</td>\n",
       "      <td>-0.226090</td>\n",
       "      <td>-0.188372</td>\n",
       "      <td>-0.008098</td>\n",
       "      <td>-0.266579</td>\n",
       "    </tr>\n",
       "    <tr>\n",
       "      <th>text_neutral</th>\n",
       "      <td>-0.286219</td>\n",
       "      <td>-0.221322</td>\n",
       "      <td>-0.272066</td>\n",
       "      <td>-0.028241</td>\n",
       "      <td>0.021881</td>\n",
       "      <td>0.135383</td>\n",
       "      <td>0.409433</td>\n",
       "    </tr>\n",
       "  </tbody>\n",
       "</table>\n",
       "</div>"
      ],
      "text/plain": [
       "               facial_anger  facial_disgust  facial_fear  facial_joy  \\\n",
       "text_anger         0.088131       -0.046638    -0.166281   -0.079025   \n",
       "text_disgust      -0.037573       -0.133239    -0.128602    0.218443   \n",
       "text_fear          0.136245       -0.338267    -0.332244   -0.136314   \n",
       "text_joy           0.036551        0.213681     0.436095   -0.045756   \n",
       "text_sadness      -0.227920        0.429767    -0.056182    0.335701   \n",
       "text_surprise      0.510384       -0.044646     0.179982   -0.226090   \n",
       "text_neutral      -0.286219       -0.221322    -0.272066   -0.028241   \n",
       "\n",
       "               facial_sadness  facial_surprise  facial_neutral  \n",
       "text_anger           0.032596         0.352811       -0.079247  \n",
       "text_disgust        -0.005819        -0.116359       -0.048432  \n",
       "text_fear           -0.360337         0.407742        0.314530  \n",
       "text_joy             0.077573        -0.260738       -0.201377  \n",
       "text_sadness         0.168237        -0.068511       -0.160812  \n",
       "text_surprise       -0.188372        -0.008098       -0.266579  \n",
       "text_neutral         0.021881         0.135383        0.409433  "
      ]
     },
     "execution_count": 207,
     "metadata": {},
     "output_type": "execute_result"
    }
   ],
   "source": [
    "df_vocals_morning_merged = merge_text_fer_data(df_facial_vocals_morning, df_text_vocals_morning)\n",
    "df_vocals_morning_corr = df_vocals_morning_merged.corr().drop(['text_anger', 'text_disgust', 'text_fear', 'text_joy', 'text_sadness', 'text_surprise', 'text_neutral'], axis=1)\n",
    "df_vocals_morning_corr = df_vocals_morning_corr.drop(['facial_anger', 'facial_disgust', 'facial_fear', 'facial_joy', 'facial_sadness', 'facial_surprise', 'facial_neutral'],axis=0)\n",
    "df_vocals_morning_corr"
   ]
  },
  {
   "cell_type": "code",
   "execution_count": 219,
   "metadata": {},
   "outputs": [
    {
     "ename": "KeyError",
     "evalue": "\"['end'] not found in axis\"",
     "output_type": "error",
     "traceback": [
      "\u001b[0;31m---------------------------------------------------------------------------\u001b[0m",
      "\u001b[0;31mKeyError\u001b[0m                                  Traceback (most recent call last)",
      "\u001b[1;32m/home/bsauter/projects/coin_jazz/notebooks/correlation_analysis.ipynb Cell 11\u001b[0m in \u001b[0;36m<cell line: 1>\u001b[0;34m()\u001b[0m\n\u001b[0;32m----> <a href='vscode-notebook-cell://wsl%2Bubuntu/home/bsauter/projects/coin_jazz/notebooks/correlation_analysis.ipynb#X22sdnNjb2RlLXJlbW90ZQ%3D%3D?line=0'>1</a>\u001b[0m df_facial_vocals_morning \u001b[39m=\u001b[39m df_facial_vocals_morning\u001b[39m.\u001b[39;49mdrop(\u001b[39m'\u001b[39;49m\u001b[39mend\u001b[39;49m\u001b[39m'\u001b[39;49m, axis\u001b[39m=\u001b[39;49m\u001b[39m1\u001b[39;49m)\n\u001b[1;32m      <a href='vscode-notebook-cell://wsl%2Bubuntu/home/bsauter/projects/coin_jazz/notebooks/correlation_analysis.ipynb#X22sdnNjb2RlLXJlbW90ZQ%3D%3D?line=1'>2</a>\u001b[0m df_facial_vocals_morning\u001b[39m.\u001b[39mcolumns \u001b[39m=\u001b[39m [\u001b[39m'\u001b[39m\u001b[39mfacial_anger\u001b[39m\u001b[39m'\u001b[39m, \u001b[39m'\u001b[39m\u001b[39mfacial_disgust\u001b[39m\u001b[39m'\u001b[39m, \u001b[39m'\u001b[39m\u001b[39mfacial_fear\u001b[39m\u001b[39m'\u001b[39m, \u001b[39m'\u001b[39m\u001b[39mfacial_joy\u001b[39m\u001b[39m'\u001b[39m, \u001b[39m'\u001b[39m\u001b[39mfacial_sadness\u001b[39m\u001b[39m'\u001b[39m, \u001b[39m'\u001b[39m\u001b[39mfacial_surprise\u001b[39m\u001b[39m'\u001b[39m, \u001b[39m'\u001b[39m\u001b[39mfacial_neutral\u001b[39m\u001b[39m'\u001b[39m, \u001b[39m'\u001b[39m\u001b[39mstart_patch\u001b[39m\u001b[39m'\u001b[39m]\n\u001b[1;32m      <a href='vscode-notebook-cell://wsl%2Bubuntu/home/bsauter/projects/coin_jazz/notebooks/correlation_analysis.ipynb#X22sdnNjb2RlLXJlbW90ZQ%3D%3D?line=2'>3</a>\u001b[0m df_text_vocals_morning\u001b[39m.\u001b[39mcolumns \u001b[39m=\u001b[39m [\u001b[39m'\u001b[39m\u001b[39mstart_patch\u001b[39m\u001b[39m'\u001b[39m, \u001b[39m'\u001b[39m\u001b[39mtext_anger\u001b[39m\u001b[39m'\u001b[39m, \u001b[39m'\u001b[39m\u001b[39mtext_disgust\u001b[39m\u001b[39m'\u001b[39m, \u001b[39m'\u001b[39m\u001b[39mtext_fear\u001b[39m\u001b[39m'\u001b[39m, \u001b[39m'\u001b[39m\u001b[39mtext_joy\u001b[39m\u001b[39m'\u001b[39m, \u001b[39m'\u001b[39m\u001b[39mtext_sadness\u001b[39m\u001b[39m'\u001b[39m, \u001b[39m'\u001b[39m\u001b[39mtext_surprise\u001b[39m\u001b[39m'\u001b[39m, \u001b[39m'\u001b[39m\u001b[39mtext_neutral\u001b[39m\u001b[39m'\u001b[39m]\n",
      "File \u001b[0;32m~/anaconda3/envs/aaWorkshop/lib/python3.9/site-packages/pandas/util/_decorators.py:311\u001b[0m, in \u001b[0;36mdeprecate_nonkeyword_arguments.<locals>.decorate.<locals>.wrapper\u001b[0;34m(*args, **kwargs)\u001b[0m\n\u001b[1;32m    305\u001b[0m \u001b[39mif\u001b[39;00m \u001b[39mlen\u001b[39m(args) \u001b[39m>\u001b[39m num_allow_args:\n\u001b[1;32m    306\u001b[0m     warnings\u001b[39m.\u001b[39mwarn(\n\u001b[1;32m    307\u001b[0m         msg\u001b[39m.\u001b[39mformat(arguments\u001b[39m=\u001b[39marguments),\n\u001b[1;32m    308\u001b[0m         \u001b[39mFutureWarning\u001b[39;00m,\n\u001b[1;32m    309\u001b[0m         stacklevel\u001b[39m=\u001b[39mstacklevel,\n\u001b[1;32m    310\u001b[0m     )\n\u001b[0;32m--> 311\u001b[0m \u001b[39mreturn\u001b[39;00m func(\u001b[39m*\u001b[39;49margs, \u001b[39m*\u001b[39;49m\u001b[39m*\u001b[39;49mkwargs)\n",
      "File \u001b[0;32m~/anaconda3/envs/aaWorkshop/lib/python3.9/site-packages/pandas/core/frame.py:4957\u001b[0m, in \u001b[0;36mDataFrame.drop\u001b[0;34m(self, labels, axis, index, columns, level, inplace, errors)\u001b[0m\n\u001b[1;32m   4809\u001b[0m \u001b[39m@deprecate_nonkeyword_arguments\u001b[39m(version\u001b[39m=\u001b[39m\u001b[39mNone\u001b[39;00m, allowed_args\u001b[39m=\u001b[39m[\u001b[39m\"\u001b[39m\u001b[39mself\u001b[39m\u001b[39m\"\u001b[39m, \u001b[39m\"\u001b[39m\u001b[39mlabels\u001b[39m\u001b[39m\"\u001b[39m])\n\u001b[1;32m   4810\u001b[0m \u001b[39mdef\u001b[39;00m \u001b[39mdrop\u001b[39m(\n\u001b[1;32m   4811\u001b[0m     \u001b[39mself\u001b[39m,\n\u001b[0;32m   (...)\u001b[0m\n\u001b[1;32m   4818\u001b[0m     errors: \u001b[39mstr\u001b[39m \u001b[39m=\u001b[39m \u001b[39m\"\u001b[39m\u001b[39mraise\u001b[39m\u001b[39m\"\u001b[39m,\n\u001b[1;32m   4819\u001b[0m ):\n\u001b[1;32m   4820\u001b[0m     \u001b[39m\"\"\"\u001b[39;00m\n\u001b[1;32m   4821\u001b[0m \u001b[39m    Drop specified labels from rows or columns.\u001b[39;00m\n\u001b[1;32m   4822\u001b[0m \n\u001b[0;32m   (...)\u001b[0m\n\u001b[1;32m   4955\u001b[0m \u001b[39m            weight  1.0     0.8\u001b[39;00m\n\u001b[1;32m   4956\u001b[0m \u001b[39m    \"\"\"\u001b[39;00m\n\u001b[0;32m-> 4957\u001b[0m     \u001b[39mreturn\u001b[39;00m \u001b[39msuper\u001b[39;49m()\u001b[39m.\u001b[39;49mdrop(\n\u001b[1;32m   4958\u001b[0m         labels\u001b[39m=\u001b[39;49mlabels,\n\u001b[1;32m   4959\u001b[0m         axis\u001b[39m=\u001b[39;49maxis,\n\u001b[1;32m   4960\u001b[0m         index\u001b[39m=\u001b[39;49mindex,\n\u001b[1;32m   4961\u001b[0m         columns\u001b[39m=\u001b[39;49mcolumns,\n\u001b[1;32m   4962\u001b[0m         level\u001b[39m=\u001b[39;49mlevel,\n\u001b[1;32m   4963\u001b[0m         inplace\u001b[39m=\u001b[39;49minplace,\n\u001b[1;32m   4964\u001b[0m         errors\u001b[39m=\u001b[39;49merrors,\n\u001b[1;32m   4965\u001b[0m     )\n",
      "File \u001b[0;32m~/anaconda3/envs/aaWorkshop/lib/python3.9/site-packages/pandas/core/generic.py:4267\u001b[0m, in \u001b[0;36mNDFrame.drop\u001b[0;34m(self, labels, axis, index, columns, level, inplace, errors)\u001b[0m\n\u001b[1;32m   4265\u001b[0m \u001b[39mfor\u001b[39;00m axis, labels \u001b[39min\u001b[39;00m axes\u001b[39m.\u001b[39mitems():\n\u001b[1;32m   4266\u001b[0m     \u001b[39mif\u001b[39;00m labels \u001b[39mis\u001b[39;00m \u001b[39mnot\u001b[39;00m \u001b[39mNone\u001b[39;00m:\n\u001b[0;32m-> 4267\u001b[0m         obj \u001b[39m=\u001b[39m obj\u001b[39m.\u001b[39;49m_drop_axis(labels, axis, level\u001b[39m=\u001b[39;49mlevel, errors\u001b[39m=\u001b[39;49merrors)\n\u001b[1;32m   4269\u001b[0m \u001b[39mif\u001b[39;00m inplace:\n\u001b[1;32m   4270\u001b[0m     \u001b[39mself\u001b[39m\u001b[39m.\u001b[39m_update_inplace(obj)\n",
      "File \u001b[0;32m~/anaconda3/envs/aaWorkshop/lib/python3.9/site-packages/pandas/core/generic.py:4311\u001b[0m, in \u001b[0;36mNDFrame._drop_axis\u001b[0;34m(self, labels, axis, level, errors, consolidate, only_slice)\u001b[0m\n\u001b[1;32m   4309\u001b[0m         new_axis \u001b[39m=\u001b[39m axis\u001b[39m.\u001b[39mdrop(labels, level\u001b[39m=\u001b[39mlevel, errors\u001b[39m=\u001b[39merrors)\n\u001b[1;32m   4310\u001b[0m     \u001b[39melse\u001b[39;00m:\n\u001b[0;32m-> 4311\u001b[0m         new_axis \u001b[39m=\u001b[39m axis\u001b[39m.\u001b[39;49mdrop(labels, errors\u001b[39m=\u001b[39;49merrors)\n\u001b[1;32m   4312\u001b[0m     indexer \u001b[39m=\u001b[39m axis\u001b[39m.\u001b[39mget_indexer(new_axis)\n\u001b[1;32m   4314\u001b[0m \u001b[39m# Case for non-unique axis\u001b[39;00m\n\u001b[1;32m   4315\u001b[0m \u001b[39melse\u001b[39;00m:\n",
      "File \u001b[0;32m~/anaconda3/envs/aaWorkshop/lib/python3.9/site-packages/pandas/core/indexes/base.py:6661\u001b[0m, in \u001b[0;36mIndex.drop\u001b[0;34m(self, labels, errors)\u001b[0m\n\u001b[1;32m   6659\u001b[0m \u001b[39mif\u001b[39;00m mask\u001b[39m.\u001b[39many():\n\u001b[1;32m   6660\u001b[0m     \u001b[39mif\u001b[39;00m errors \u001b[39m!=\u001b[39m \u001b[39m\"\u001b[39m\u001b[39mignore\u001b[39m\u001b[39m\"\u001b[39m:\n\u001b[0;32m-> 6661\u001b[0m         \u001b[39mraise\u001b[39;00m \u001b[39mKeyError\u001b[39;00m(\u001b[39mf\u001b[39m\u001b[39m\"\u001b[39m\u001b[39m{\u001b[39;00m\u001b[39mlist\u001b[39m(labels[mask])\u001b[39m}\u001b[39;00m\u001b[39m not found in axis\u001b[39m\u001b[39m\"\u001b[39m)\n\u001b[1;32m   6662\u001b[0m     indexer \u001b[39m=\u001b[39m indexer[\u001b[39m~\u001b[39mmask]\n\u001b[1;32m   6663\u001b[0m \u001b[39mreturn\u001b[39;00m \u001b[39mself\u001b[39m\u001b[39m.\u001b[39mdelete(indexer)\n",
      "\u001b[0;31mKeyError\u001b[0m: \"['end'] not found in axis\""
     ]
    }
   ],
   "source": [
    "df_facial_vocals_morning = df_facial_vocals_morning.drop('end', axis=1)\n",
    "df_facial_vocals_morning.columns = ['facial_anger', 'facial_disgust', 'facial_fear', 'facial_joy', 'facial_sadness', 'facial_surprise', 'facial_neutral', 'start_patch']\n",
    "df_vocals_morning_aggregated=pd.DataFrame(df_facial_vocals_morning[['facial_anger', 'facial_disgust','facial_fear', 'facial_sadness']].mean(axis=1), columns=['facial_agg_negative'])\n",
    "df_vocals_morning_aggregated['facial_agg_positive'] = df_facial_vocals_morning[['facial_neutral', 'facial_surprise','facial_joy']].mean(axis=1)\n",
    "df_vocals_morning_aggregated['text_agg_positive'] = df_text_vocals_morning[['text_neutral', 'text_surprise','text_joy']].mean(axis=1)\n",
    "df_vocals_morning_aggregated['text_agg_negative'] = df_text_vocals_morning[['text_anger', 'text_disgust','text_fear', 'text_sadness']].mean(axis=1)\n",
    "df_vocals_morning_corr = df_vocals_morning_aggregated.corr().drop(['text_agg_positive', 'text_agg_negative'], axis=1)\n",
    "df_vocals_morning_corr = df_vocals_morning_corr.drop(['facial_agg_positive', 'facial_agg_negative'], axis=0)\n",
    "df_vocals_morning_corr"
   ]
  },
  {
   "attachments": {},
   "cell_type": "markdown",
   "metadata": {},
   "source": [
    "# Hume/Text correlations"
   ]
  },
  {
   "cell_type": "code",
   "execution_count": 230,
   "metadata": {},
   "outputs": [
    {
     "data": {
      "text/plain": [
       "0.0"
      ]
     },
     "execution_count": 230,
     "metadata": {},
     "output_type": "execute_result"
    }
   ],
   "source": [
    "df_facial_vocals_morning_hume = load_aggregate_hume_emotions('../data/hume/raw_predictions/jazzaar-20230417-morning-JFLB-Cuban-Vocals-video Philipp.csv')\n",
    "max(df_facial_vocals_morning_hume['start_patch'])"
   ]
  },
  {
   "cell_type": "code",
   "execution_count": 232,
   "metadata": {},
   "outputs": [],
   "source": [
    "def load_aggregate_hume_emotions(path):\n",
    "    # Emotion mapping \n",
    "    ANGER = ['Anger', 'Contempt', 'Determination', 'Envy']\n",
    "    DISGUST = ['Awkwardness', 'Disgust', 'Embarrassment', 'Tiredness']\n",
    "    ENJOYMENT = ['Admiration','Adoration','Aesthetic Appreciation','Amusement','Contentment','Ecstasy','Entrancement','Joy','Love','Romance','Satisfaction','Sympathy','Triumph']\n",
    "    FEAR = ['Anxiety','Awe','Distress','Doubt','Fear','Horror','Pain']\n",
    "    NEUTRAL = ['Boredom','Calmness','Concentration','Contemplation']\n",
    "    SADNESS = ['Confusion','Disappointment','Empathic Pain','Guilt','Nostalgia','Sadness','Shame']\n",
    "    SURPRISE = ['Craving','Desire','Excitement','Interest','Pride','Realization','Relief','Surprise (negative)','Surprise (positive)']\n",
    "\n",
    "    df_org = pd.read_csv(path, index_col=0)\n",
    "    df = pd.DataFrame(df_org[ANGER].mean(axis=1), columns=['anger'])\n",
    "    df['disgust'] = df_org[DISGUST].mean(axis=1)\n",
    "    df['fear'] = df_org[FEAR].mean(axis=1)\n",
    "    df['joy'] = df_org[ENJOYMENT].mean(axis=1)\n",
    "    df['sadness'] = df_org[SADNESS].mean(axis=1)\n",
    "    df['surprise'] = df_org[SURPRISE].mean(axis=1)\n",
    "    df['neutral'] = df_org[NEUTRAL].mean(axis=1)\n",
    "\n",
    "    df['start_patch'] = np.floor(((df_org['time']/60)/5))*5\n",
    "    # df = df.groupby('start_patch')['anger', 'disgust', 'fear', 'joy', 'sadness', 'surprise', 'neutral'].mean().reset_index()\n",
    "    \n",
    "    return df\n"
   ]
  },
  {
   "cell_type": "code",
   "execution_count": 198,
   "metadata": {},
   "outputs": [
    {
     "ename": "AttributeError",
     "evalue": "'NoneType' object has no attribute 'head'",
     "output_type": "error",
     "traceback": [
      "\u001b[0;31m---------------------------------------------------------------------------\u001b[0m",
      "\u001b[0;31mAttributeError\u001b[0m                            Traceback (most recent call last)",
      "\u001b[1;32m/home/bsauter/projects/coin_jazz/notebooks/correlation_analysis.ipynb Cell 14\u001b[0m in \u001b[0;36m<cell line: 1>\u001b[0;34m()\u001b[0m\n\u001b[0;32m----> <a href='vscode-notebook-cell://wsl%2Bubuntu/home/bsauter/projects/coin_jazz/notebooks/correlation_analysis.ipynb#X41sdnNjb2RlLXJlbW90ZQ%3D%3D?line=0'>1</a>\u001b[0m df_facial_vocals_morning_hume\u001b[39m.\u001b[39;49mhead()\n",
      "\u001b[0;31mAttributeError\u001b[0m: 'NoneType' object has no attribute 'head'"
     ]
    }
   ],
   "source": [
    "df_facial_vocals_morning_hume.head()"
   ]
  }
 ],
 "metadata": {
  "kernelspec": {
   "display_name": "aaWorkshop",
   "language": "python",
   "name": "aaworkshop"
  },
  "language_info": {
   "codemirror_mode": {
    "name": "ipython",
    "version": 3
   },
   "file_extension": ".py",
   "mimetype": "text/x-python",
   "name": "python",
   "nbconvert_exporter": "python",
   "pygments_lexer": "ipython3",
   "version": "3.9.13"
  },
  "orig_nbformat": 4
 },
 "nbformat": 4,
 "nbformat_minor": 2
}
