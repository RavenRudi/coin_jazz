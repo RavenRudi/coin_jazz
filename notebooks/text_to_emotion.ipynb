{
 "cells": [
  {
   "cell_type": "code",
   "execution_count": 3,
   "metadata": {},
   "outputs": [
    {
     "name": "stderr",
     "output_type": "stream",
     "text": [
      "2023-06-20 11:32:30.274090: I tensorflow/tsl/cuda/cudart_stub.cc:28] Could not find cuda drivers on your machine, GPU will not be used.\n",
      "2023-06-20 11:32:31.098304: I tensorflow/tsl/cuda/cudart_stub.cc:28] Could not find cuda drivers on your machine, GPU will not be used.\n",
      "2023-06-20 11:32:31.104553: I tensorflow/core/platform/cpu_feature_guard.cc:182] This TensorFlow binary is optimized to use available CPU instructions in performance-critical operations.\n",
      "To enable the following instructions: AVX2 FMA, in other operations, rebuild TensorFlow with the appropriate compiler flags.\n",
      "2023-06-20 11:32:34.948326: W tensorflow/compiler/tf2tensorrt/utils/py_utils.cc:38] TF-TRT Warning: Could not find TensorRT\n",
      "2023-06-20 11:32:42.194012: W tensorflow/tsl/framework/cpu_allocator_impl.cc:83] Allocation of 93763584 exceeds 10% of free system memory.\n",
      "2023-06-20 11:32:44.607806: W tensorflow/tsl/framework/cpu_allocator_impl.cc:83] Allocation of 93763584 exceeds 10% of free system memory.\n",
      "2023-06-20 11:32:45.620583: W tensorflow/tsl/framework/cpu_allocator_impl.cc:83] Allocation of 93763584 exceeds 10% of free system memory.\n",
      "2023-06-20 11:33:01.886081: W tensorflow/tsl/framework/cpu_allocator_impl.cc:83] Allocation of 93763584 exceeds 10% of free system memory.\n",
      "2023-06-20 11:33:02.934086: W tensorflow/tsl/framework/cpu_allocator_impl.cc:83] Allocation of 93763584 exceeds 10% of free system memory.\n",
      "All model checkpoint layers were used when initializing TFDistilBertForSequenceClassification.\n",
      "\n",
      "All the layers of TFDistilBertForSequenceClassification were initialized from the model checkpoint at bhadresh-savani/distilbert-base-uncased-emotion.\n",
      "If your task is similar to the task the model of the checkpoint was trained on, you can already use TFDistilBertForSequenceClassification for predictions without further training.\n",
      "/home/bsauter/anaconda3/envs/aaWorkshop/lib/python3.9/site-packages/transformers/pipelines/text_classification.py:104: UserWarning: `return_all_scores` is now deprecated,  if want a similar funcionality use `top_k=None` instead of `return_all_scores=True` or `top_k=1` instead of `return_all_scores=False`.\n",
      "  warnings.warn(\n"
     ]
    },
    {
     "name": "stdout",
     "output_type": "stream",
     "text": [
      "[[{'label': 'sadness', 'score': 0.0006792720523662865}, {'label': 'joy', 'score': 0.9959298968315125}, {'label': 'love', 'score': 0.0009452458471059799}, {'label': 'anger', 'score': 0.0018055305117741227}, {'label': 'fear', 'score': 0.0004111054295208305}, {'label': 'surprise', 'score': 0.00022885759244672954}]]\n"
     ]
    }
   ],
   "source": [
    "from transformers import pipeline\n",
    "classifier = pipeline(\"text-classification\",model='bhadresh-savani/distilbert-base-uncased-emotion', return_all_scores=True)\n",
    "prediction = classifier(\"I love using transformers. The best part is wide range of support and its easy to use\", )\n",
    "print(prediction)"
   ]
  },
  {
   "cell_type": "code",
   "execution_count": 7,
   "metadata": {},
   "outputs": [
    {
     "data": {
      "text/plain": [
       "[{'label': 'sadness', 'score': 0.0006792720523662865},\n",
       " {'label': 'joy', 'score': 0.9959298968315125},\n",
       " {'label': 'love', 'score': 0.0009452458471059799},\n",
       " {'label': 'anger', 'score': 0.0018055305117741227},\n",
       " {'label': 'fear', 'score': 0.0004111054295208305},\n",
       " {'label': 'surprise', 'score': 0.00022885759244672954}]"
      ]
     },
     "execution_count": 7,
     "metadata": {},
     "output_type": "execute_result"
    }
   ],
   "source": [
    "prediction[0]"
   ]
  },
  {
   "cell_type": "code",
   "execution_count": 8,
   "metadata": {},
   "outputs": [],
   "source": [
    "import os\n",
    "from transformers import pipeline\n",
    "import json\n",
    "VIDEOS = ['jazzaar-20230417-morning-JFLB-Cuban-Vocals-video Philipp',\n",
    " 'JFBB_Rhythm_Section_Day1_Morning Thomas',\n",
    " 'JFBB_Rhythm_Section_Day1_Afternoon Thomas',\n",
    " 'JFBB_Jazz_Funk_morning_video20230419101818 Luis Cal García',\n",
    " 'JFBB_Jazz_Funk_afternoon_video20230419143359 Luis Cal García',\n",
    " 'jazzaar-20230417-afternoon-JFLB-Cuban-Vocals-video Philipp',\n",
    " 'jazzaar-20230417-morning-JFLB-Cuban-Vocals-video Philipp']"
   ]
  },
  {
   "cell_type": "code",
   "execution_count": 31,
   "metadata": {},
   "outputs": [
    {
     "name": "stderr",
     "output_type": "stream",
     "text": [
      "Some layers from the model checkpoint at bhadresh-savani/distilbert-base-uncased-emotion were not used when initializing TFDistilBertForSequenceClassification: ['dropout_19']\n",
      "- This IS expected if you are initializing TFDistilBertForSequenceClassification from the checkpoint of a model trained on another task or with another architecture (e.g. initializing a BertForSequenceClassification model from a BertForPreTraining model).\n",
      "- This IS NOT expected if you are initializing TFDistilBertForSequenceClassification from the checkpoint of a model that you expect to be exactly identical (initializing a BertForSequenceClassification model from a BertForSequenceClassification model).\n",
      "Some layers of TFDistilBertForSequenceClassification were not initialized from the model checkpoint at bhadresh-savani/distilbert-base-uncased-emotion and are newly initialized: ['dropout_179']\n",
      "You should probably TRAIN this model on a down-stream task to be able to use it for predictions and inference.\n",
      "/home/bsauter/anaconda3/envs/aaWorkshop/lib/python3.9/site-packages/transformers/pipelines/text_classification.py:104: UserWarning: `return_all_scores` is now deprecated,  if want a similar funcionality use `top_k=None` instead of `return_all_scores=True` or `top_k=1` instead of `return_all_scores=False`.\n",
      "  warnings.warn(\n"
     ]
    }
   ],
   "source": [
    "classifier = pipeline(\"text-classification\",model='bhadresh-savani/distilbert-base-uncased-emotion', return_all_scores=True)\n",
    "\n",
    "for video in VIDEOS:\n",
    "    json_output = {'Video': video, 'predictions':[]}\n",
    "    for root, dir, files in os.walk(f\"../data/transcriptions/processed/{video}\"):\n",
    "        for file in files:\n",
    "            \n",
    "            with open(f'{root}/{file}') as f:\n",
    "                text = f.read()\n",
    "                f.close()\n",
    "            prediction = classifier(text)\n",
    "\n",
    "            segment_output = {'segment': file, 'emotions': prediction[0]}\n",
    "            json_output.get('predictions').append(segment_output)\n",
    "    \n",
    "    sorted_data = sorted(json_output.get('predictions'), key = lambda x: int(x['segment'].split('_')[0]))\n",
    "    json_output['predictions'] = sorted_data\n",
    "    with open(f\"../data/emotion_from_transcript/{video}.json\", 'w') as file_path:\n",
    "        json.dump(json_output, file_path)\n",
    "    "
   ]
  },
  {
   "cell_type": "code",
   "execution_count": null,
   "metadata": {},
   "outputs": [],
   "source": []
  }
 ],
 "metadata": {
  "kernelspec": {
   "display_name": "aaWorkshop",
   "language": "python",
   "name": "aaworkshop"
  },
  "language_info": {
   "codemirror_mode": {
    "name": "ipython",
    "version": 3
   },
   "file_extension": ".py",
   "mimetype": "text/x-python",
   "name": "python",
   "nbconvert_exporter": "python",
   "pygments_lexer": "ipython3",
   "version": "3.9.13"
  },
  "orig_nbformat": 4
 },
 "nbformat": 4,
 "nbformat_minor": 2
}
