{
 "cells": [
  {
   "cell_type": "code",
   "execution_count": 8,
   "metadata": {},
   "outputs": [],
   "source": [
    "import os\n",
    "from transformers import pipeline\n",
    "import json\n",
    "VIDEOS = ['jazzaar-20230417-morning-JFLB-Cuban-Vocals-video Philipp',\n",
    " 'JFBB_Rhythm_Section_Day1_Morning Thomas',\n",
    " 'JFBB_Rhythm_Section_Day1_Afternoon Thomas',\n",
    " 'JFBB_Jazz_Funk_morning_video20230419101818 Luis Cal García',\n",
    " 'JFBB_Jazz_Funk_afternoon_video20230419143359 Luis Cal García',\n",
    " 'jazzaar-20230417-afternoon-JFLB-Cuban-Vocals-video Philipp',\n",
    " 'jazzaar-20230417-morning-JFLB-Cuban-Vocals-video Philipp']"
   ]
  },
  {
   "cell_type": "code",
   "execution_count": 31,
   "metadata": {},
   "outputs": [
    {
     "name": "stderr",
     "output_type": "stream",
     "text": [
      "Some layers from the model checkpoint at bhadresh-savani/distilbert-base-uncased-emotion were not used when initializing TFDistilBertForSequenceClassification: ['dropout_19']\n",
      "- This IS expected if you are initializing TFDistilBertForSequenceClassification from the checkpoint of a model trained on another task or with another architecture (e.g. initializing a BertForSequenceClassification model from a BertForPreTraining model).\n",
      "- This IS NOT expected if you are initializing TFDistilBertForSequenceClassification from the checkpoint of a model that you expect to be exactly identical (initializing a BertForSequenceClassification model from a BertForSequenceClassification model).\n",
      "Some layers of TFDistilBertForSequenceClassification were not initialized from the model checkpoint at bhadresh-savani/distilbert-base-uncased-emotion and are newly initialized: ['dropout_179']\n",
      "You should probably TRAIN this model on a down-stream task to be able to use it for predictions and inference.\n",
      "/home/bsauter/anaconda3/envs/aaWorkshop/lib/python3.9/site-packages/transformers/pipelines/text_classification.py:104: UserWarning: `return_all_scores` is now deprecated,  if want a similar funcionality use `top_k=None` instead of `return_all_scores=True` or `top_k=1` instead of `return_all_scores=False`.\n",
      "  warnings.warn(\n"
     ]
    }
   ],
   "source": [
    "classifier = pipeline(\"text-classification\",model='bhadresh-savani/distilbert-base-uncased-emotion', return_all_scores=True)\n",
    "\n",
    "for video in VIDEOS:\n",
    "    json_output = {'Video': video, 'predictions':[]}\n",
    "    for root, dir, files in os.walk(f\"../data/transcriptions/processed/{video}\"):\n",
    "        for file in files:\n",
    "            \n",
    "            with open(f'{root}/{file}') as f:\n",
    "                text = f.read()\n",
    "                f.close()\n",
    "            prediction = classifier(text)\n",
    "\n",
    "            segment_output = {'segment': file, 'emotions': prediction[0]}\n",
    "            json_output.get('predictions').append(segment_output)\n",
    "    \n",
    "    sorted_data = sorted(json_output.get('predictions'), key = lambda x: int(x['segment'].split('_')[0]))\n",
    "    json_output['predictions'] = sorted_data\n",
    "    with open(f\"../data/emotion_from_transcript/{video}.json\", 'w') as file_path:\n",
    "        json.dump(json_output, file_path)\n",
    "    "
   ]
  },
  {
   "cell_type": "code",
   "execution_count": null,
   "metadata": {},
   "outputs": [],
   "source": []
  }
 ],
 "metadata": {
  "kernelspec": {
   "display_name": "aaWorkshop",
   "language": "python",
   "name": "aaworkshop"
  },
  "language_info": {
   "codemirror_mode": {
    "name": "ipython",
    "version": 3
   },
   "file_extension": ".py",
   "mimetype": "text/x-python",
   "name": "python",
   "nbconvert_exporter": "python",
   "pygments_lexer": "ipython3",
   "version": "3.9.13"
  },
  "orig_nbformat": 4
 },
 "nbformat": 4,
 "nbformat_minor": 2
}
