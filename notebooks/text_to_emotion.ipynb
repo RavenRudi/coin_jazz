{
 "cells": [
  {
   "cell_type": "code",
   "execution_count": 15,
   "metadata": {},
   "outputs": [],
   "source": [
    "import os\n",
    "from transformers import pipeline\n",
    "import json\n",
    "import numpy as np\n",
    "import pandas as pd\n",
    "VIDEOS = ['jazzaar-20230417-morning-JFLB-Cuban-Vocals-video Philipp',\n",
    " 'JFBB_Rhythm_Section_Day1_Morning Thomas',\n",
    " 'JFBB_Rhythm_Section_Day1_Afternoon Thomas',\n",
    " 'JFBB_Jazz_Funk_morning_video20230419101818 Luis Cal García',\n",
    " 'JFBB_Jazz_Funk_afternoon_video20230419143359 Luis Cal García',\n",
    " 'jazzaar-20230417-afternoon-JFLB-Cuban-Vocals-video Philipp',\n",
    " 'jazzaar-20230417-morning-JFLB-Cuban-Vocals-video Philipp']"
   ]
  },
  {
   "cell_type": "code",
   "execution_count": 20,
   "metadata": {},
   "outputs": [
    {
     "name": "stderr",
     "output_type": "stream",
     "text": [
      "Some layers from the model checkpoint at bhadresh-savani/distilbert-base-uncased-emotion were not used when initializing TFDistilBertForSequenceClassification: ['dropout_19']\n",
      "- This IS expected if you are initializing TFDistilBertForSequenceClassification from the checkpoint of a model trained on another task or with another architecture (e.g. initializing a BertForSequenceClassification model from a BertForPreTraining model).\n",
      "- This IS NOT expected if you are initializing TFDistilBertForSequenceClassification from the checkpoint of a model that you expect to be exactly identical (initializing a BertForSequenceClassification model from a BertForSequenceClassification model).\n",
      "Some layers of TFDistilBertForSequenceClassification were not initialized from the model checkpoint at bhadresh-savani/distilbert-base-uncased-emotion and are newly initialized: ['dropout_139']\n",
      "You should probably TRAIN this model on a down-stream task to be able to use it for predictions and inference.\n",
      "/home/bsauter/anaconda3/envs/aaWorkshop/lib/python3.9/site-packages/transformers/pipelines/text_classification.py:104: UserWarning: `return_all_scores` is now deprecated,  if want a similar funcionality use `top_k=None` instead of `return_all_scores=True` or `top_k=1` instead of `return_all_scores=False`.\n",
      "  warnings.warn(\n"
     ]
    }
   ],
   "source": [
    "classifier = pipeline(\"text-classification\",model='bhadresh-savani/distilbert-base-uncased-emotion', return_all_scores=True)\n",
    "columns = ['segment_id', 'start','end','sadness','joy','love','anger','fear','surprise']\n",
    "for video in VIDEOS:\n",
    "    output = []\n",
    "    for root, dir, files in os.walk(f\"../data/transcriptions/processed/{video}\"):\n",
    "        for file in files:\n",
    "            \n",
    "            with open(f'{root}/{file}') as f:\n",
    "                text = f.read()\n",
    "                f.close()\n",
    "\n",
    "            prediction = classifier(text)\n",
    "            emotions = [x['score'] for x in prediction[0]]\n",
    "            meta_info = [file.split('_')[i] for i in range(3)]\n",
    "            output = output + meta_info + emotions\n",
    "            \n",
    "    output = np.reshape(output, (-1,9))\n",
    "    pd.DataFrame(output, columns=columns).to_csv(f'../data/emotion_from_transcript/distilbert-base-uncased-emotion/{video}.csv')\n",
    "\n",
    "    "
   ]
  },
  {
   "cell_type": "code",
   "execution_count": 18,
   "metadata": {},
   "outputs": [
    {
     "data": {
      "text/html": [
       "<div>\n",
       "<style scoped>\n",
       "    .dataframe tbody tr th:only-of-type {\n",
       "        vertical-align: middle;\n",
       "    }\n",
       "\n",
       "    .dataframe tbody tr th {\n",
       "        vertical-align: top;\n",
       "    }\n",
       "\n",
       "    .dataframe thead th {\n",
       "        text-align: right;\n",
       "    }\n",
       "</style>\n",
       "<table border=\"1\" class=\"dataframe\">\n",
       "  <thead>\n",
       "    <tr style=\"text-align: right;\">\n",
       "      <th></th>\n",
       "      <th>segment_id</th>\n",
       "      <th>start</th>\n",
       "      <th>end</th>\n",
       "      <th>sadness</th>\n",
       "      <th>joy</th>\n",
       "      <th>love</th>\n",
       "      <th>anger</th>\n",
       "      <th>fear</th>\n",
       "      <th>surprise</th>\n",
       "    </tr>\n",
       "  </thead>\n",
       "  <tbody>\n",
       "    <tr>\n",
       "      <th>0</th>\n",
       "      <td>segment_id</td>\n",
       "      <td>start</td>\n",
       "      <td>end</td>\n",
       "      <td>sadness</td>\n",
       "      <td>joy</td>\n",
       "      <td>love</td>\n",
       "      <td>anger</td>\n",
       "      <td>fear</td>\n",
       "      <td>surprise</td>\n",
       "    </tr>\n",
       "    <tr>\n",
       "      <th>1</th>\n",
       "      <td>108</td>\n",
       "      <td>9683</td>\n",
       "      <td>9701</td>\n",
       "      <td>0.0011498832609504461</td>\n",
       "      <td>0.5125492215156555</td>\n",
       "      <td>0.48058652877807617</td>\n",
       "      <td>0.002974633825942874</td>\n",
       "      <td>0.0005996768595650792</td>\n",
       "      <td>0.002140072174370289</td>\n",
       "    </tr>\n",
       "  </tbody>\n",
       "</table>\n",
       "</div>"
      ],
      "text/plain": [
       "   segment_id  start   end                sadness                 joy  \\\n",
       "0  segment_id  start   end                sadness                 joy   \n",
       "1         108   9683  9701  0.0011498832609504461  0.5125492215156555   \n",
       "\n",
       "                  love                 anger                   fear  \\\n",
       "0                 love                 anger                   fear   \n",
       "1  0.48058652877807617  0.002974633825942874  0.0005996768595650792   \n",
       "\n",
       "               surprise  \n",
       "0              surprise  \n",
       "1  0.002140072174370289  "
      ]
     },
     "execution_count": 18,
     "metadata": {},
     "output_type": "execute_result"
    }
   ],
   "source": []
  },
  {
   "cell_type": "code",
   "execution_count": null,
   "metadata": {},
   "outputs": [],
   "source": [
    "classifier = pipeline(\"text-classification\",model='bhadresh-savani/distilbert-base-uncased-emotion', return_all_scores=True)\n",
    "columns = ['segment_id', 'start','end','sadness','joy','love','anger','fear','surprise']\n",
    "for video in VIDEOS:\n",
    "    output = []\n",
    "    for root, dir, files in os.walk(f\"../data/transcriptions/processed/{video}\"):\n",
    "        for file in files:\n",
    "            \n",
    "            with open(f'{root}/{file}') as f:\n",
    "                text = f.read()\n",
    "                f.close()\n",
    "\n",
    "            prediction = classifier(text)\n",
    "            emotions = [x['score'] for x in prediction[0]]\n",
    "            meta_info = [file.split('_')[i] for i in range(3)]\n",
    "            output = output + meta_info + emotions\n",
    "            \n",
    "    output = np.reshape(output, (-1,9))\n",
    "    pd.DataFrame(output, columns=columns).to_csv(f'../data/emotion_from_transcript/distilbert-base-uncased-emotion/{video}.csv')"
   ]
  }
 ],
 "metadata": {
  "kernelspec": {
   "display_name": "aaWorkshop",
   "language": "python",
   "name": "python3"
  },
  "language_info": {
   "codemirror_mode": {
    "name": "ipython",
    "version": 3
   },
   "file_extension": ".py",
   "mimetype": "text/x-python",
   "name": "python",
   "nbconvert_exporter": "python",
   "pygments_lexer": "ipython3",
   "version": "3.9.13"
  },
  "orig_nbformat": 4
 },
 "nbformat": 4,
 "nbformat_minor": 2
}
