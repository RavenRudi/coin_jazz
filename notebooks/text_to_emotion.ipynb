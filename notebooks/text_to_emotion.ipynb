{
 "cells": [
  {
   "cell_type": "code",
   "execution_count": 1,
   "metadata": {},
   "outputs": [
    {
     "name": "stderr",
     "output_type": "stream",
     "text": [
      "/home/bsauter/anaconda3/envs/aaWorkshop/lib/python3.9/site-packages/tqdm/auto.py:21: TqdmWarning: IProgress not found. Please update jupyter and ipywidgets. See https://ipywidgets.readthedocs.io/en/stable/user_install.html\n",
      "  from .autonotebook import tqdm as notebook_tqdm\n",
      "2023-07-02 05:53:34.035988: I tensorflow/tsl/cuda/cudart_stub.cc:28] Could not find cuda drivers on your machine, GPU will not be used.\n",
      "2023-07-02 05:53:36.092750: I tensorflow/tsl/cuda/cudart_stub.cc:28] Could not find cuda drivers on your machine, GPU will not be used.\n",
      "2023-07-02 05:53:36.104344: I tensorflow/core/platform/cpu_feature_guard.cc:182] This TensorFlow binary is optimized to use available CPU instructions in performance-critical operations.\n",
      "To enable the following instructions: AVX2 FMA, in other operations, rebuild TensorFlow with the appropriate compiler flags.\n",
      "2023-07-02 05:53:42.863528: W tensorflow/compiler/tf2tensorrt/utils/py_utils.cc:38] TF-TRT Warning: Could not find TensorRT\n"
     ]
    }
   ],
   "source": [
    "import os\n",
    "from transformers import pipeline\n",
    "import json\n",
    "import numpy as np\n",
    "import pandas as pd\n",
    "VIDEOS = ['jazzaar-20230417-morning-JFLB-Cuban-Vocals-video Philipp',\n",
    " 'JFBB_Rhythm_Section_Day1_Morning Thomas',\n",
    " 'JFBB_Rhythm_Section_Day1_Afternoon Thomas',\n",
    " 'JFBB_Jazz_Funk_morning_video20230419101818 Luis Cal García',\n",
    " 'JFBB_Jazz_Funk_afternoon_video20230419143359 Luis Cal García',\n",
    " 'jazzaar-20230417-afternoon-JFLB-Cuban-Vocals-video Philipp',\n",
    " 'jazzaar-20230417-morning-JFLB-Cuban-Vocals-video Philipp']"
   ]
  },
  {
   "cell_type": "code",
   "execution_count": 37,
   "metadata": {},
   "outputs": [
    {
     "name": "stderr",
     "output_type": "stream",
     "text": [
      "Some layers from the model checkpoint at bhadresh-savani/distilbert-base-uncased-emotion were not used when initializing TFDistilBertForSequenceClassification: ['dropout_19']\n",
      "- This IS expected if you are initializing TFDistilBertForSequenceClassification from the checkpoint of a model trained on another task or with another architecture (e.g. initializing a BertForSequenceClassification model from a BertForPreTraining model).\n",
      "- This IS NOT expected if you are initializing TFDistilBertForSequenceClassification from the checkpoint of a model that you expect to be exactly identical (initializing a BertForSequenceClassification model from a BertForSequenceClassification model).\n",
      "Some layers of TFDistilBertForSequenceClassification were not initialized from the model checkpoint at bhadresh-savani/distilbert-base-uncased-emotion and are newly initialized: ['dropout_279']\n",
      "You should probably TRAIN this model on a down-stream task to be able to use it for predictions and inference.\n",
      "/home/bsauter/anaconda3/envs/aaWorkshop/lib/python3.9/site-packages/transformers/pipelines/text_classification.py:104: UserWarning: `return_all_scores` is now deprecated,  if want a similar funcionality use `top_k=None` instead of `return_all_scores=True` or `top_k=1` instead of `return_all_scores=False`.\n",
      "  warnings.warn(\n"
     ]
    }
   ],
   "source": [
    "classifier = pipeline(\"text-classification\",model='bhadresh-savani/distilbert-base-uncased-emotion', return_all_scores=True)\n",
    "columns = ['segment_id', 'start','end','sadness','joy','love','anger','fear','surprise']\n",
    "dimensions = (-1,9)\n",
    "for video in VIDEOS:\n",
    "    output = []\n",
    "    for root, dir, files in os.walk(f\"../data/transcriptions/processed/{video}\"):\n",
    "        for file in files:\n",
    "            \n",
    "            with open(f'{root}/{file}') as f:\n",
    "                text = f.read()\n",
    "                f.close()\n",
    "\n",
    "            prediction = classifier(text)\n",
    "            emotions = [x['score'] for x in prediction[0]]\n",
    "            meta_info = [file.split('_')[i] for i in range(3)]\n",
    "            output = output + meta_info + emotions\n",
    "            \n",
    "    output = np.reshape(output, dimensions)\n",
    "    output_df = pd.DataFrame(output, columns=columns)\n",
    "    output_df= output_df.astype({'segment_id': 'int32'})\n",
    "    output_df = output_df.sort_values(by=['segment_id']).reset_index(drop=True)  \n",
    "    output_df.to_csv(f'../data/emotion_from_transcript/distilbert-base-uncased-emotion/{video}.csv')"
   ]
  },
  {
   "cell_type": "code",
   "execution_count": 38,
   "metadata": {},
   "outputs": [
    {
     "name": "stderr",
     "output_type": "stream",
     "text": [
      "All model checkpoint layers were used when initializing TFRobertaForSequenceClassification.\n",
      "\n",
      "All the layers of TFRobertaForSequenceClassification were initialized from the model checkpoint at j-hartmann/emotion-english-distilroberta-base.\n",
      "If your task is similar to the task the model of the checkpoint was trained on, you can already use TFRobertaForSequenceClassification for predictions without further training.\n",
      "/home/bsauter/anaconda3/envs/aaWorkshop/lib/python3.9/site-packages/transformers/pipelines/text_classification.py:104: UserWarning: `return_all_scores` is now deprecated,  if want a similar funcionality use `top_k=None` instead of `return_all_scores=True` or `top_k=1` instead of `return_all_scores=False`.\n",
      "  warnings.warn(\n"
     ]
    }
   ],
   "source": [
    "classifier = pipeline(\"text-classification\",model='j-hartmann/emotion-english-distilroberta-base', return_all_scores=True)\n",
    "columns = ['segment_id', 'start','end','anger','disgust','fear','joy','neutral','sadness', 'surprise']\n",
    "dimensions = (-1,10)\n",
    "for video in VIDEOS:\n",
    "    output = []\n",
    "    for root, dir, files in os.walk(f\"../data/transcriptions/processed/{video}\"):\n",
    "        for file in files:\n",
    "            \n",
    "            with open(f'{root}/{file}') as f:\n",
    "                text = f.read()\n",
    "                f.close()\n",
    "\n",
    "            prediction = classifier(text)\n",
    "            emotions = [x['score'] for x in prediction[0]]\n",
    "            meta_info = [file.split('_')[i] for i in range(3)]\n",
    "            output = output + meta_info + emotions\n",
    "            \n",
    "    output = np.reshape(output, dimensions)\n",
    "    output_df = pd.DataFrame(output, columns=columns)\n",
    "    output_df= output_df.astype({'segment_id': 'int32'})\n",
    "    output_df = output_df.sort_values(by=['segment_id']).reset_index(drop=True)\n",
    "    output_df.to_csv(f'../data/emotion_from_transcript/emotion-english-distilroberta-base/{video}.csv')"
   ]
  },
  {
   "cell_type": "code",
   "execution_count": 4,
   "metadata": {},
   "outputs": [
    {
     "name": "stderr",
     "output_type": "stream",
     "text": [
      "No model was supplied, defaulted to distilbert-base-uncased-finetuned-sst-2-english and revision af0f99b (https://huggingface.co/distilbert-base-uncased-finetuned-sst-2-english).\n",
      "Using a pipeline without specifying a model name and revision in production is not recommended.\n"
     ]
    },
    {
     "name": "stderr",
     "output_type": "stream",
     "text": [
      "No model was supplied, defaulted to distilbert-base-uncased-finetuned-sst-2-english and revision af0f99b (https://huggingface.co/distilbert-base-uncased-finetuned-sst-2-english).\n",
      "Using a pipeline without specifying a model name and revision in production is not recommended.\n"
     ]
    },
    {
     "data": {
      "text/plain": [
       "[{'label': 'POSITIVE', 'score': 0.9998656511306763}]"
      ]
     },
     "execution_count": 4,
     "metadata": {},
     "output_type": "execute_result"
    }
   ],
   "source": [
    "classifier = pipeline(\"sentiment-analysis\")\n",
    "columns = ['segment_id', 'start','end','positive', 'negative']\n",
    "dimensions = (-1,5)\n",
    "for video in VIDEOS:\n",
    "    output = []\n",
    "    for root, dir, files in os.walk(f\"../data/transcriptions/processed/{video}\"):\n",
    "        for file in files:\n",
    "            \n",
    "            with open(f'{root}/{file}') as f:\n",
    "                text = f.read()\n",
    "                f.close()\n",
    "\n",
    "            prediction = classifier(text)\n",
    "            if prediction[0]['label'] == 'POSITIVE':\n",
    "                emotions = [1,0]\n",
    "            else:\n",
    "                emotions = [0,1]\n",
    "\n",
    "            meta_info = [file.split('_')[i] for i in range(3)]\n",
    "            output = output + meta_info + emotions\n",
    "            \n",
    "    output = np.reshape(output, dimensions)\n",
    "    output_df = pd.DataFrame(output, columns=columns)\n",
    "    output_df= output_df.astype({'segment_id': 'int32'})\n",
    "    output_df = output_df.sort_values(by=['segment_id']).reset_index(drop=True)\n",
    "    output_df.to_csv(f'../data/emotion_from_transcript/binary_sentiment/{video}.csv')\n",
    "\n",
    "\n",
    "from transformers import pipeline\n",
    "sentiment_pipeline = pipeline(\"sentiment-analysis\")\n",
    "data = [\"I love you\"]\n",
    "sentiment_pipeline(data)"
   ]
  },
  {
   "cell_type": "code",
   "execution_count": 3,
   "metadata": {},
   "outputs": [
    {
     "name": "stderr",
     "output_type": "stream",
     "text": [
      "No model was supplied, defaulted to distilbert-base-uncased-finetuned-sst-2-english and revision af0f99b (https://huggingface.co/distilbert-base-uncased-finetuned-sst-2-english).\n",
      "Using a pipeline without specifying a model name and revision in production is not recommended.\n"
     ]
    },
    {
     "data": {
      "text/plain": [
       "[{'label': 'NEGATIVE', 'score': 0.9997598528862}]"
      ]
     },
     "execution_count": 3,
     "metadata": {},
     "output_type": "execute_result"
    }
   ],
   "source": [
    "sentiment_pipeline = pipeline(\"sentiment-analysis\")\n",
    "data = [\"No this does not work\"]\n",
    "sentiment_pipeline(data)"
   ]
  }
 ],
 "metadata": {
  "kernelspec": {
   "display_name": "aaWorkshop",
   "language": "python",
   "name": "aaworkshop"
  },
  "language_info": {
   "codemirror_mode": {
    "name": "ipython",
    "version": 3
   },
   "file_extension": ".py",
   "mimetype": "text/x-python",
   "name": "python",
   "nbconvert_exporter": "python",
   "pygments_lexer": "ipython3",
   "version": "3.9.13"
  },
  "orig_nbformat": 4
 },
 "nbformat": 4,
 "nbformat_minor": 2
}
