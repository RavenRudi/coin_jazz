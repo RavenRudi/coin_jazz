{
 "cells": [
  {
   "cell_type": "code",
   "execution_count": 44,
   "metadata": {},
   "outputs": [],
   "source": [
    "import pandas as pd\n",
    "import matplotlib.pyplot as plt\n",
    "import numpy as np\n",
    "import math"
   ]
  },
  {
   "cell_type": "code",
   "execution_count": 47,
   "metadata": {},
   "outputs": [],
   "source": [
    "def calc_patches(df, num_patches=3):\n",
    "    flow_emotions = ['joy', 'fear', 'surprise']\n",
    "    df_new = df.copy()\n",
    "    df_new = df_new.groupby('start_patch')[flow_emotions].mean().reset_index()\n",
    "    threshold = max(df_new['start_patch'])/num_patches\n",
    "    df_new['patch'] = [math.floor(start/threshold) for start in df_new['start_patch']]\n",
    "    return df_new"
   ]
  },
  {
   "cell_type": "code",
   "execution_count": 51,
   "metadata": {},
   "outputs": [
    {
     "data": {
      "text/html": [
       "<div>\n",
       "<style scoped>\n",
       "    .dataframe tbody tr th:only-of-type {\n",
       "        vertical-align: middle;\n",
       "    }\n",
       "\n",
       "    .dataframe tbody tr th {\n",
       "        vertical-align: top;\n",
       "    }\n",
       "\n",
       "    .dataframe thead th {\n",
       "        text-align: right;\n",
       "    }\n",
       "</style>\n",
       "<table border=\"1\" class=\"dataframe\">\n",
       "  <thead>\n",
       "    <tr style=\"text-align: right;\">\n",
       "      <th></th>\n",
       "      <th>anger</th>\n",
       "      <th>disgust</th>\n",
       "      <th>fear</th>\n",
       "      <th>joy</th>\n",
       "      <th>sadness</th>\n",
       "      <th>surprise</th>\n",
       "      <th>neutral</th>\n",
       "      <th>start_patch</th>\n",
       "      <th>start</th>\n",
       "    </tr>\n",
       "  </thead>\n",
       "  <tbody>\n",
       "    <tr>\n",
       "      <th>0</th>\n",
       "      <td>0.039957</td>\n",
       "      <td>0.114220</td>\n",
       "      <td>0.126544</td>\n",
       "      <td>0.169541</td>\n",
       "      <td>0.137182</td>\n",
       "      <td>0.147788</td>\n",
       "      <td>0.157061</td>\n",
       "      <td>0.0</td>\n",
       "      <td>0.10</td>\n",
       "    </tr>\n",
       "    <tr>\n",
       "      <th>1</th>\n",
       "      <td>0.037922</td>\n",
       "      <td>0.104910</td>\n",
       "      <td>0.110700</td>\n",
       "      <td>0.190294</td>\n",
       "      <td>0.127883</td>\n",
       "      <td>0.129474</td>\n",
       "      <td>0.150551</td>\n",
       "      <td>0.0</td>\n",
       "      <td>0.20</td>\n",
       "    </tr>\n",
       "    <tr>\n",
       "      <th>2</th>\n",
       "      <td>0.044073</td>\n",
       "      <td>0.118693</td>\n",
       "      <td>0.129124</td>\n",
       "      <td>0.167583</td>\n",
       "      <td>0.158697</td>\n",
       "      <td>0.130753</td>\n",
       "      <td>0.167633</td>\n",
       "      <td>0.0</td>\n",
       "      <td>0.30</td>\n",
       "    </tr>\n",
       "    <tr>\n",
       "      <th>3</th>\n",
       "      <td>0.041380</td>\n",
       "      <td>0.134487</td>\n",
       "      <td>0.140038</td>\n",
       "      <td>0.133327</td>\n",
       "      <td>0.198558</td>\n",
       "      <td>0.126955</td>\n",
       "      <td>0.179034</td>\n",
       "      <td>0.0</td>\n",
       "      <td>0.40</td>\n",
       "    </tr>\n",
       "    <tr>\n",
       "      <th>4</th>\n",
       "      <td>0.047777</td>\n",
       "      <td>0.118812</td>\n",
       "      <td>0.136461</td>\n",
       "      <td>0.141578</td>\n",
       "      <td>0.157510</td>\n",
       "      <td>0.128101</td>\n",
       "      <td>0.191475</td>\n",
       "      <td>0.0</td>\n",
       "      <td>0.50</td>\n",
       "    </tr>\n",
       "    <tr>\n",
       "      <th>...</th>\n",
       "      <td>...</td>\n",
       "      <td>...</td>\n",
       "      <td>...</td>\n",
       "      <td>...</td>\n",
       "      <td>...</td>\n",
       "      <td>...</td>\n",
       "      <td>...</td>\n",
       "      <td>...</td>\n",
       "      <td>...</td>\n",
       "    </tr>\n",
       "    <tr>\n",
       "      <th>63475</th>\n",
       "      <td>0.074321</td>\n",
       "      <td>0.149759</td>\n",
       "      <td>0.149410</td>\n",
       "      <td>0.091297</td>\n",
       "      <td>0.201079</td>\n",
       "      <td>0.097925</td>\n",
       "      <td>0.242697</td>\n",
       "      <td>140.0</td>\n",
       "      <td>8588.08</td>\n",
       "    </tr>\n",
       "    <tr>\n",
       "      <th>63476</th>\n",
       "      <td>0.067359</td>\n",
       "      <td>0.155635</td>\n",
       "      <td>0.145315</td>\n",
       "      <td>0.077353</td>\n",
       "      <td>0.226719</td>\n",
       "      <td>0.081795</td>\n",
       "      <td>0.271931</td>\n",
       "      <td>140.0</td>\n",
       "      <td>8588.20</td>\n",
       "    </tr>\n",
       "    <tr>\n",
       "      <th>63477</th>\n",
       "      <td>0.071918</td>\n",
       "      <td>0.149919</td>\n",
       "      <td>0.149765</td>\n",
       "      <td>0.091086</td>\n",
       "      <td>0.218187</td>\n",
       "      <td>0.088475</td>\n",
       "      <td>0.270641</td>\n",
       "      <td>140.0</td>\n",
       "      <td>8588.32</td>\n",
       "    </tr>\n",
       "    <tr>\n",
       "      <th>63478</th>\n",
       "      <td>0.063536</td>\n",
       "      <td>0.148344</td>\n",
       "      <td>0.139564</td>\n",
       "      <td>0.079959</td>\n",
       "      <td>0.225815</td>\n",
       "      <td>0.088789</td>\n",
       "      <td>0.313732</td>\n",
       "      <td>140.0</td>\n",
       "      <td>8588.40</td>\n",
       "    </tr>\n",
       "    <tr>\n",
       "      <th>63479</th>\n",
       "      <td>0.068998</td>\n",
       "      <td>0.145392</td>\n",
       "      <td>0.145146</td>\n",
       "      <td>0.085924</td>\n",
       "      <td>0.212973</td>\n",
       "      <td>0.106575</td>\n",
       "      <td>0.299033</td>\n",
       "      <td>140.0</td>\n",
       "      <td>8588.48</td>\n",
       "    </tr>\n",
       "  </tbody>\n",
       "</table>\n",
       "<p>1251890 rows × 9 columns</p>\n",
       "</div>"
      ],
      "text/plain": [
       "          anger   disgust      fear       joy   sadness  surprise   neutral  \\\n",
       "0      0.039957  0.114220  0.126544  0.169541  0.137182  0.147788  0.157061   \n",
       "1      0.037922  0.104910  0.110700  0.190294  0.127883  0.129474  0.150551   \n",
       "2      0.044073  0.118693  0.129124  0.167583  0.158697  0.130753  0.167633   \n",
       "3      0.041380  0.134487  0.140038  0.133327  0.198558  0.126955  0.179034   \n",
       "4      0.047777  0.118812  0.136461  0.141578  0.157510  0.128101  0.191475   \n",
       "...         ...       ...       ...       ...       ...       ...       ...   \n",
       "63475  0.074321  0.149759  0.149410  0.091297  0.201079  0.097925  0.242697   \n",
       "63476  0.067359  0.155635  0.145315  0.077353  0.226719  0.081795  0.271931   \n",
       "63477  0.071918  0.149919  0.149765  0.091086  0.218187  0.088475  0.270641   \n",
       "63478  0.063536  0.148344  0.139564  0.079959  0.225815  0.088789  0.313732   \n",
       "63479  0.068998  0.145392  0.145146  0.085924  0.212973  0.106575  0.299033   \n",
       "\n",
       "       start_patch    start  \n",
       "0              0.0     0.10  \n",
       "1              0.0     0.20  \n",
       "2              0.0     0.30  \n",
       "3              0.0     0.40  \n",
       "4              0.0     0.50  \n",
       "...            ...      ...  \n",
       "63475        140.0  8588.08  \n",
       "63476        140.0  8588.20  \n",
       "63477        140.0  8588.32  \n",
       "63478        140.0  8588.40  \n",
       "63479        140.0  8588.48  \n",
       "\n",
       "[1251890 rows x 9 columns]"
      ]
     },
     "execution_count": 51,
     "metadata": {},
     "output_type": "execute_result"
    }
   ],
   "source": [
    "PATCH_SIZE = 3\n",
    "df_vocals_morning = pd.read_csv('../data/hume/processed/Cuban_vocals_morning.csv', index_col=0)\n",
    "df_vocals_morning_patch = calc_patches(df_vocals_morning,PATCH_SIZE)\n",
    "\n",
    "df_vocals_afternoon = pd.read_csv('../data/hume/processed/Cuban_vocals_afternoon.csv', index_col=0)\n",
    "df_vocals_afternoon_patch = calc_patches(df_vocals_afternoon,PATCH_SIZE)\n",
    "\n",
    "# df_vocals = pd.concat([df_vocals_morning, df_vocals_afternoon])\n",
    "\n",
    "df_band_morning = pd.read_csv('../data/hume/processed/Funk_band_morning.csv', index_col=0)\n",
    "df_band_morning_patch = calc_patches(df_band_morning,PATCH_SIZE)\n",
    "\n",
    "\n",
    "df_band_afternoon = pd.read_csv('../data/hume/processed/Funk_band_afternoon.csv', index_col=0)\n",
    "df_band_afternoon_patch = calc_patches(df_band_afternoon,PATCH_SIZE)\n",
    "\n",
    "\n",
    "df_rhythm_morning = pd.read_csv('../data/hume/processed/Funk_rhythm_morning.csv', index_col=0)\n",
    "df_rhythm_morning_patch = calc_patches(df_rhythm_morning,PATCH_SIZE)\n",
    "\n",
    "df_rhythm_afternoon = pd.read_csv('../data/hume/processed/Funk_rhythm_afternoon.csv', index_col=0)\n",
    "df_rhythm_afternoon_patch = calc_patches(df_rhythm_afternoon,PATCH_SIZE)\n",
    "\n",
    "\n",
    "df_merged = pd.concat([pd.concat([df_vocals_morning, df_vocals_afternoon, df_band_morning,df_band_afternoon, df_rhythm_morning, df_rhythm_afternoon])])\n",
    "df_merged_patch = pd.concat([pd.concat([df_vocals_morning_patch, df_vocals_afternoon_patch, df_band_morning_patch,df_band_afternoon_patch, df_rhythm_morning_patch, df_rhythm_afternoon_patch])])\n",
    "df_merged"
   ]
  },
  {
   "attachments": {},
   "cell_type": "markdown",
   "metadata": {},
   "source": [
    "# H1: Do we measure more flow state?"
   ]
  },
  {
   "cell_type": "code",
   "execution_count": 5,
   "metadata": {},
   "outputs": [
    {
     "data": {
      "text/plain": [
       "Text(0.5, 1.0, 'Mean of Flow and Non-Flow State Emotions')"
      ]
     },
     "execution_count": 5,
     "metadata": {},
     "output_type": "execute_result"
    },
    {
     "data": {
      "image/png": "[encoded data removed]",
      "text/plain": [
       "<Figure size 640x480 with 1 Axes>"
      ]
     },
     "metadata": {},
     "output_type": "display_data"
    }
   ],
   "source": [
    "flow_emotions = ['joy', 'fear', 'surprise']\n",
    "non_flow =['neutral', 'sadness', 'anger']\n",
    "\n",
    "df_merged['flow'] = df_merged[flow_emotions].mean(axis=1)\n",
    "df_merged['non_flow'] = df_merged[non_flow].mean(axis=1)\n",
    "plt.bar(['Flow state', 'Non flow state'], [df_merged['flow'].mean(), df_merged['non_flow'].mean()])\n",
    "plt.title('Mean of Flow and Non-Flow State Emotions')"
   ]
  },
  {
   "cell_type": "code",
   "execution_count": 6,
   "metadata": {},
   "outputs": [
    {
     "name": "stdout",
     "output_type": "stream",
     "text": [
      "t-statistic: -1277.5667387012718\n",
      "p-value: 0.00\n"
     ]
    }
   ],
   "source": [
    "from scipy.stats import ttest_rel\n",
    "\n",
    "# Assuming you have two columns 'column1' and 'column2' in your DataFrame\n",
    "\n",
    "# Perform paired t-test\n",
    "t_statistic, p_value = ttest_rel(df_merged['flow'], df_merged['non_flow'])\n",
    "\n",
    "formatted_p_value = \"{:.2f}\".format(p_value)\n",
    "# Print the t-statistic and p-value\n",
    "print(\"t-statistic:\", t_statistic)\n",
    "print(\"p-value:\", formatted_p_value)"
   ]
  },
  {
   "attachments": {},
   "cell_type": "markdown",
   "metadata": {},
   "source": [
    "# H2: Measuring flow state more in later sessions"
   ]
  },
  {
   "cell_type": "code",
   "execution_count": 52,
   "metadata": {},
   "outputs": [
    {
     "data": {
      "text/plain": [
       "Text(0.5, 1.0, 'Mean of flow state emotions over time')"
      ]
     },
     "execution_count": 52,
     "metadata": {},
     "output_type": "execute_result"
    },
    {
     "data": {
      "image/png": "[encoded data removed]",
      "text/plain": [
       "<Figure size 640x480 with 1 Axes>"
      ]
     },
     "metadata": {},
     "output_type": "display_data"
    }
   ],
   "source": [
    "flow_emotions = ['joy', 'fear', 'surprise']\n",
    "\n",
    "df_merged_patch['flow'] = df_merged_patch[flow_emotions].mean(axis=1)\n",
    "plt.bar(['Start', 'Middle', 'End'], [df_merged_patch[['flow', 'patch']].loc[df_merged_patch['patch']==0].mean()['flow'], df_merged_patch[['flow', 'patch']].loc[df_merged_patch['patch']==1].mean()['flow'], df_merged_patch[['flow', 'patch']].loc[df_merged_patch['patch']==2].mean()['flow']])\n",
    "plt.title('Mean of flow state emotions over time')"
   ]
  },
  {
   "cell_type": "code",
   "execution_count": 65,
   "metadata": {},
   "outputs": [
    {
     "name": "stdout",
     "output_type": "stream",
     "text": [
      "Kruskal-Wallis Test\n",
      "Test statistic: 3.1438093558563196\n",
      "P-value: 0.20764930042359708\n"
     ]
    }
   ],
   "source": [
    "from scipy.stats import kruskal\n",
    "# Extract the columns from the DataFrame\n",
    "patch_1 = df_merged_patch[['flow', 'patch']].loc[df_merged_patch['patch']==0]['flow']\n",
    "patch_2 = df_merged_patch[['flow', 'patch']].loc[df_merged_patch['patch']==1]['flow']\n",
    "patch_3 = df_merged_patch[['flow', 'patch']].loc[df_merged_patch['patch']==2]['flow']\n",
    "\n",
    "# Perform the Kruskal-Wallis test\n",
    "statistic, p_value = kruskal(patch_1, patch_2, patch_3)\n",
    "\n",
    "# Print the results\n",
    "print(\"Kruskal-Wallis Test\")\n",
    "print(f\"Test statistic: {statistic}\")\n",
    "print(f\"P-value: {p_value}\")\n"
   ]
  }
 ],
 "metadata": {
  "kernelspec": {
   "display_name": "aaWorkshop",
   "language": "python",
   "name": "aaworkshop"
  },
  "language_info": {
   "codemirror_mode": {
    "name": "ipython",
    "version": 3
   },
   "file_extension": ".py",
   "mimetype": "text/x-python",
   "name": "python",
   "nbconvert_exporter": "python",
   "pygments_lexer": "ipython3",
   "version": "3.9.13"
  },
  "orig_nbformat": 4
 },
 "nbformat": 4,
 "nbformat_minor": 2
}
