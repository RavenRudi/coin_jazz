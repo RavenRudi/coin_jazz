{
 "cells": [
  {
   "cell_type": "code",
   "execution_count": 1,
   "metadata": {},
   "outputs": [
    {
     "name": "stderr",
     "output_type": "stream",
     "text": [
      "/home/bsauter/anaconda3/envs/aaWorkshop/lib/python3.9/site-packages/tqdm/auto.py:21: TqdmWarning: IProgress not found. Please update jupyter and ipywidgets. See https://ipywidgets.readthedocs.io/en/stable/user_install.html\n",
      "  from .autonotebook import tqdm as notebook_tqdm\n",
      "2023-07-04 18:08:17.763972: I tensorflow/tsl/cuda/cudart_stub.cc:28] Could not find cuda drivers on your machine, GPU will not be used.\n",
      "2023-07-04 18:08:18.781043: I tensorflow/tsl/cuda/cudart_stub.cc:28] Could not find cuda drivers on your machine, GPU will not be used.\n",
      "2023-07-04 18:08:18.791768: I tensorflow/core/platform/cpu_feature_guard.cc:182] This TensorFlow binary is optimized to use available CPU instructions in performance-critical operations.\n",
      "To enable the following instructions: AVX2 FMA, in other operations, rebuild TensorFlow with the appropriate compiler flags.\n",
      "2023-07-04 18:08:21.749073: W tensorflow/compiler/tf2tensorrt/utils/py_utils.cc:38] TF-TRT Warning: Could not find TensorRT\n"
     ]
    }
   ],
   "source": [
    "import os\n",
    "from transformers import pipeline\n",
    "import json\n",
    "import numpy as np\n",
    "import pandas as pd\n",
    "VIDEOS = ['jazzaar-20230417-morning-JFLB-Cuban-Vocals-video Philipp',\n",
    " 'JFBB_Rhythm_Section_Day1_Morning Thomas',\n",
    " 'JFBB_Rhythm_Section_Day1_Afternoon Thomas',\n",
    " 'JFBB_Jazz_Funk_morning_video20230419101818 Luis Cal García',\n",
    " 'JFBB_Jazz_Funk_afternoon_video20230419143359 Luis Cal García',\n",
    " 'jazzaar-20230417-afternoon-JFLB-Cuban-Vocals-video Philipp',\n",
    " 'jazzaar-20230417-morning-JFLB-Cuban-Vocals-video Philipp']"
   ]
  },
  {
   "cell_type": "code",
   "execution_count": 10,
   "metadata": {},
   "outputs": [],
   "source": [
    "columns = ['segment_id', 'start', 'end', 'text']\n",
    "dimensions = (-1,4)\n",
    "for video in VIDEOS:\n",
    "    output = []\n",
    "    for root, dir, files in os.walk(f\"../data/transcriptions/processed/{video}\"):\n",
    "        for file in files:\n",
    "            \n",
    "            with open(f'{root}/{file}') as f:\n",
    "                text = f.read()\n",
    "                f.close()\n",
    "\n",
    "            \n",
    "            meta_info = [file.split('_')[i] for i in range(3)]\n",
    "            output = output + meta_info + [text]\n",
    "            \n",
    "    output = np.reshape(output, dimensions)\n",
    "    output_df = pd.DataFrame(output, columns=columns)\n",
    "\n",
    "    \n",
    "    output_df=output_df.astype({'start': 'int32', 'end': 'int32', 'text': 'string'})\n",
    "    output_df=output_df.sort_values(by='start', axis=0)\n",
    "\n",
    "    output_df['end_l1'] = output_df['end'].shift(1)\n",
    "    output_df['diff_to_last_snippet'] = output_df['start'] - output_df['end_l1']\n",
    "    curr_row = output_df.iloc[0]\n",
    "    rows =[]\n",
    "    for index, row in output_df.iterrows():\n",
    "        if row.segment_id == '1':\n",
    "            continue\n",
    "        elif row.diff_to_last_snippet < 20:\n",
    "            curr_row.end = row.end\n",
    "            curr_row.text = curr_row.text + row.text\n",
    "        else:\n",
    "            \n",
    "            if not os.path.exists(f\"../data/transcriptions/processed_merged/{video}\"):\n",
    "                        # Create a new directory because it does not exist\n",
    "                os.makedirs(f\"../data/transcriptions/processed_merged/{video}\")\n",
    "\n",
    "            with open(f'../data/transcriptions//processed_merged/{video}/{curr_row.segment_id}_{curr_row.start}_{curr_row.end}_seg.txt', 'w') as output:\n",
    "                output.write(curr_row.text)\n",
    "            rows.append(curr_row)\n",
    "            curr_row = row\n",
    "        \n",
    "    df=pd.DataFrame(rows)\n",
    "    df['len'] = [len(text) for text in df['text'].to_numpy()]\n",
    "    df.drop(['start','end','text','end_l1','diff_to_last_snippet'], axis=1, inplace=True)\n",
    "    df.to_csv(f'../data/transcriptions/transcription_length/{video}.csv')"
   ]
  }
 ],
 "metadata": {
  "kernelspec": {
   "display_name": "aaWorkshop",
   "language": "python",
   "name": "aaworkshop"
  },
  "language_info": {
   "codemirror_mode": {
    "name": "ipython",
    "version": 3
   },
   "file_extension": ".py",
   "mimetype": "text/x-python",
   "name": "python",
   "nbconvert_exporter": "python",
   "pygments_lexer": "ipython3",
   "version": "3.9.13"
  },
  "orig_nbformat": 4
 },
 "nbformat": 4,
 "nbformat_minor": 2
}
