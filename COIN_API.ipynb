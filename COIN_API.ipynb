{
 "cells": [
  {
   "cell_type": "code",
   "execution_count": 1,
   "metadata": {},
   "outputs": [
    {
     "name": "stdout",
     "output_type": "stream",
     "text": [
      "Job(id=\"075a8856-b8f5-4055-aea1-8fdc81843da8\")\n",
      "Running...\n",
      "Predictions downloaded to predictions.json\n",
      "Artifacts downloaded to artifacts.zip\n"
     ]
    }
   ],
   "source": [
    "from hume import HumeBatchClient\n",
    "from hume.models.config import FaceConfig\n",
    "\n",
    "client = HumeBatchClient(\"8vNtx0WMeAGVbdx7fiFOyhmYnnDq6BAP3B288un270N60oJa\")\n",
    "urls = [\"https://www.dropbox.com/sh/kk497iittfwpv0o/AADzgZKYoCMZI6iQ20UlmI2fa/videos?dl=0&preview=jazzaar-20230417-afternoon-JFLB-Cuban-Vocals-video+Philipp.mp4&subfolder_nav_tracking=1\"]\n",
    "config = FaceConfig(identify_faces=True)\n",
    "job = client.submit_job(urls, [config])\n",
    "\n",
    "print(job)\n",
    "print(\"Running...\")\n",
    "\n",
    "job.await_complete()\n",
    "job.download_predictions(\"predictions.json\")\n",
    "print(\"Predictions downloaded to predictions.json\")\n",
    "\n",
    "job.download_artifacts(\"artifacts.zip\")\n",
    "print(\"Artifacts downloaded to artifacts.zip\")\n"
   ]
  },
  {
   "cell_type": "code",
   "execution_count": 2,
   "metadata": {},
   "outputs": [
    {
     "ename": "RuntimeError",
     "evalue": "asyncio.run() cannot be called from a running event loop",
     "output_type": "error",
     "traceback": [
      "\u001b[1;31m---------------------------------------------------------------------------\u001b[0m",
      "\u001b[1;31mRuntimeError\u001b[0m                              Traceback (most recent call last)",
      "Cell \u001b[1;32mIn[2], line 13\u001b[0m\n\u001b[0;32m     10\u001b[0m         result \u001b[39m=\u001b[39m \u001b[39mawait\u001b[39;00m socket\u001b[39m.\u001b[39msend_file(\u001b[39m\"\u001b[39m\u001b[39mhttps://www.dropbox.com/sh/kk497iittfwpv0o/AADzgZKYoCMZI6iQ20UlmI2fa/videos?dl=0&preview=jazzaar-20230417-afternoon-JFLB-Cuban-Vocals-video+Philipp.mp4&subfolder_nav_tracking=1\u001b[39m\u001b[39m\"\u001b[39m)\n\u001b[0;32m     11\u001b[0m         \u001b[39mprint\u001b[39m(result)\n\u001b[1;32m---> 13\u001b[0m asyncio\u001b[39m.\u001b[39;49mrun(main())\n",
      "File \u001b[1;32mc:\\Users\\phili\\anaconda3\\envs\\COIN_Environment\\lib\\asyncio\\runners.py:33\u001b[0m, in \u001b[0;36mrun\u001b[1;34m(main, debug)\u001b[0m\n\u001b[0;32m      9\u001b[0m \u001b[39m\u001b[39m\u001b[39m\"\"\"Execute the coroutine and return the result.\u001b[39;00m\n\u001b[0;32m     10\u001b[0m \n\u001b[0;32m     11\u001b[0m \u001b[39mThis function runs the passed coroutine, taking care of\u001b[39;00m\n\u001b[1;32m   (...)\u001b[0m\n\u001b[0;32m     30\u001b[0m \u001b[39m    asyncio.run(main())\u001b[39;00m\n\u001b[0;32m     31\u001b[0m \u001b[39m\"\"\"\u001b[39;00m\n\u001b[0;32m     32\u001b[0m \u001b[39mif\u001b[39;00m events\u001b[39m.\u001b[39m_get_running_loop() \u001b[39mis\u001b[39;00m \u001b[39mnot\u001b[39;00m \u001b[39mNone\u001b[39;00m:\n\u001b[1;32m---> 33\u001b[0m     \u001b[39mraise\u001b[39;00m \u001b[39mRuntimeError\u001b[39;00m(\n\u001b[0;32m     34\u001b[0m         \u001b[39m\"\u001b[39m\u001b[39masyncio.run() cannot be called from a running event loop\u001b[39m\u001b[39m\"\u001b[39m)\n\u001b[0;32m     36\u001b[0m \u001b[39mif\u001b[39;00m \u001b[39mnot\u001b[39;00m coroutines\u001b[39m.\u001b[39miscoroutine(main):\n\u001b[0;32m     37\u001b[0m     \u001b[39mraise\u001b[39;00m \u001b[39mValueError\u001b[39;00m(\u001b[39m\"\u001b[39m\u001b[39ma coroutine was expected, got \u001b[39m\u001b[39m{!r}\u001b[39;00m\u001b[39m\"\u001b[39m\u001b[39m.\u001b[39mformat(main))\n",
      "\u001b[1;31mRuntimeError\u001b[0m: asyncio.run() cannot be called from a running event loop"
     ]
    }
   ],
   "source": [
    "import asyncio\n",
    "\n",
    "from hume import HumeStreamClient\n",
    "from hume.models.config import FaceConfig\n",
    "\n",
    "async def main():\n",
    "    client = HumeStreamClient(\"8vNtx0WMeAGVbdx7fiFOyhmYnnDq6BAP3B288un270N60oJa\")\n",
    "    config = FaceConfig(identify_faces=True)\n",
    "    async with client.connect([config]) as socket:\n",
    "        result = await socket.send_file(\"https://www.dropbox.com/sh/kk497iittfwpv0o/AADzgZKYoCMZI6iQ20UlmI2fa/videos?dl=0&preview=jazzaar-20230417-afternoon-JFLB-Cuban-Vocals-video+Philipp.mp4&subfolder_nav_tracking=1\")\n",
    "        print(result)\n",
    "\n",
    "asyncio.run(main())\n"
   ]
  }
 ],
 "metadata": {
  "kernelspec": {
   "display_name": "COIN_Environment",
   "language": "python",
   "name": "python3"
  },
  "language_info": {
   "codemirror_mode": {
    "name": "ipython",
    "version": 3
   },
   "file_extension": ".py",
   "mimetype": "text/x-python",
   "name": "python",
   "nbconvert_exporter": "python",
   "pygments_lexer": "ipython3",
   "version": "3.9.16"
  },
  "orig_nbformat": 4
 },
 "nbformat": 4,
 "nbformat_minor": 2
}
